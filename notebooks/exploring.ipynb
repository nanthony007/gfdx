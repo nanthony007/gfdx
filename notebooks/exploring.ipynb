{
 "metadata": {
  "language_info": {
   "codemirror_mode": {
    "name": "ipython",
    "version": 3
   },
   "file_extension": ".py",
   "mimetype": "text/x-python",
   "name": "python",
   "nbconvert_exporter": "python",
   "pygments_lexer": "ipython3",
   "version": "3.8.5-final"
  },
  "orig_nbformat": 2,
  "kernelspec": {
   "name": "Python 3.8.5 64-bit ('gfdx': conda)",
   "display_name": "Python 3.8.5 64-bit ('gfdx': conda)",
   "metadata": {
    "interpreter": {
     "hash": "e38d4633e5f67f4f1a35f2e1552263853769a77e37b4a5a31a0a5a8207ae8a88"
    }
   }
  }
 },
 "nbformat": 4,
 "nbformat_minor": 2,
 "cells": [
  {
   "source": [
    "This is a notebook for exploring the data."
   ],
   "cell_type": "markdown",
   "metadata": {}
  },
  {
   "cell_type": "code",
   "execution_count": 2,
   "metadata": {},
   "outputs": [],
   "source": [
    "import pandas as pd \n",
    "from gfdx.containers import structures\n",
    "import pprint\n",
    "\n",
    "printer = pprint.PrettyPrinter(indent=4)"
   ]
  },
  {
   "cell_type": "code",
   "execution_count": 65,
   "metadata": {},
   "outputs": [],
   "source": [
    "target_cols = [\n",
    "    \"country_code\",\n",
    "    \"redcap_event_name\",\n",
    "    \"redcap_repeat_instrument\",\n",
    "    \"redcap_repeat_instance\",\n",
    "    \"standard_nutrient\",\n",
    "    \"nutrient_compound\",\n",
    "    \"nutrient_level\",\n",
    "]\n",
    "df = pd.read_csv(\"../data/gfdx.csv\", usecols=target_cols)\n",
    "\n",
    "new_cols = [\n",
    "    \"country\",\n",
    "    \"food\",\n",
    "    \"instrument\",\n",
    "    \"repeat\",\n",
    "    \"nutrient\",\n",
    "    \"nutrient_level\",\n",
    "    \"compound\",\n",
    "]\n",
    "df.columns = new_cols\n",
    "\n",
    "target_foods = {\"maize_flour_arm_1\", \"wheat_flour_arm_1\", \"salt_arm_1\"}\n",
    "df = df[(df.food.isin(target_foods)) & (df.instrument == \"nutrients_compounds\")]\n",
    "# print(df.head())\n",
    "\n",
    "\n",
    "df[\"food\"] = df.food.apply(lambda x: x.split(\"_\")[0])"
   ]
  },
  {
   "cell_type": "code",
   "execution_count": 66,
   "metadata": {},
   "outputs": [
    {
     "output_type": "execute_result",
     "data": {
      "text/plain": "       country   food           instrument  repeat  nutrient  nutrient_level  \\\n37716    100.0   salt  nutrients_compounds     1.0       6.0          25.000   \n37717    100.0   salt  nutrients_compounds     2.0       7.0         975.000   \n37718    100.0   salt  nutrients_compounds     3.0       7.0         975.000   \n37723    100.0  wheat  nutrients_compounds     1.0       1.0           2.000   \n37724    100.0  wheat  nutrients_compounds     2.0       1.0           2.000   \n37725    100.0  wheat  nutrients_compounds     3.0       2.0           0.001   \n37726    100.0  wheat  nutrients_compounds     4.0       2.0           0.001   \n37727    100.0  wheat  nutrients_compounds     5.0       5.0           0.100   \n37728    100.0  wheat  nutrients_compounds     6.0       7.0          35.250   \n37729    100.0  wheat  nutrients_compounds     7.0       7.0          35.250   \n37730    100.0  wheat  nutrients_compounds     8.0       7.0          35.250   \n37731    100.0  wheat  nutrients_compounds     9.0       7.0          35.250   \n37732    100.0  wheat  nutrients_compounds    10.0       7.0          35.250   \n37733    100.0  wheat  nutrients_compounds    11.0       7.0          35.250   \n37734    100.0  wheat  nutrients_compounds    12.0       7.0          35.250   \n37735    100.0  wheat  nutrients_compounds    13.0       7.0          17.625   \n37736    100.0  wheat  nutrients_compounds    14.0       8.0          16.250   \n37737    100.0  wheat  nutrients_compounds    15.0       8.0          16.250   \n37738    100.0  wheat  nutrients_compounds    16.0       9.0           1.500   \n37739    100.0  wheat  nutrients_compounds    17.0       9.0           1.500   \n37740    100.0  wheat  nutrients_compounds    18.0      11.0           1.250   \n37741    100.0  wheat  nutrients_compounds    19.0      11.0           1.250   \n37742    100.0  wheat  nutrients_compounds    20.0      12.0           0.625   \n37743    100.0  wheat  nutrients_compounds    21.0      12.0           0.625   \n37744    100.0  wheat  nutrients_compounds    22.0      15.0          12.500   \n\n       compound  \n37716      33.0  \n37717      50.0  \n37718      55.0  \n37723       2.0  \n37724       3.0  \n37725       4.0  \n37726       5.0  \n37727      29.0  \n37728      38.0  \n37729      44.0  \n37730      46.0  \n37731      49.0  \n37732      50.0  \n37733      53.0  \n37734      55.0  \n37735      39.0  \n37736      70.0  \n37737      71.0  \n37738      72.0  \n37739      73.0  \n37740      81.0  \n37741      82.0  \n37742      85.0  \n37743      86.0  \n37744     105.0  ",
      "text/html": "<div>\n<style scoped>\n    .dataframe tbody tr th:only-of-type {\n        vertical-align: middle;\n    }\n\n    .dataframe tbody tr th {\n        vertical-align: top;\n    }\n\n    .dataframe thead th {\n        text-align: right;\n    }\n</style>\n<table border=\"1\" class=\"dataframe\">\n  <thead>\n    <tr style=\"text-align: right;\">\n      <th></th>\n      <th>country</th>\n      <th>food</th>\n      <th>instrument</th>\n      <th>repeat</th>\n      <th>nutrient</th>\n      <th>nutrient_level</th>\n      <th>compound</th>\n    </tr>\n  </thead>\n  <tbody>\n    <tr>\n      <th>37716</th>\n      <td>100.0</td>\n      <td>salt</td>\n      <td>nutrients_compounds</td>\n      <td>1.0</td>\n      <td>6.0</td>\n      <td>25.000</td>\n      <td>33.0</td>\n    </tr>\n    <tr>\n      <th>37717</th>\n      <td>100.0</td>\n      <td>salt</td>\n      <td>nutrients_compounds</td>\n      <td>2.0</td>\n      <td>7.0</td>\n      <td>975.000</td>\n      <td>50.0</td>\n    </tr>\n    <tr>\n      <th>37718</th>\n      <td>100.0</td>\n      <td>salt</td>\n      <td>nutrients_compounds</td>\n      <td>3.0</td>\n      <td>7.0</td>\n      <td>975.000</td>\n      <td>55.0</td>\n    </tr>\n    <tr>\n      <th>37723</th>\n      <td>100.0</td>\n      <td>wheat</td>\n      <td>nutrients_compounds</td>\n      <td>1.0</td>\n      <td>1.0</td>\n      <td>2.000</td>\n      <td>2.0</td>\n    </tr>\n    <tr>\n      <th>37724</th>\n      <td>100.0</td>\n      <td>wheat</td>\n      <td>nutrients_compounds</td>\n      <td>2.0</td>\n      <td>1.0</td>\n      <td>2.000</td>\n      <td>3.0</td>\n    </tr>\n    <tr>\n      <th>37725</th>\n      <td>100.0</td>\n      <td>wheat</td>\n      <td>nutrients_compounds</td>\n      <td>3.0</td>\n      <td>2.0</td>\n      <td>0.001</td>\n      <td>4.0</td>\n    </tr>\n    <tr>\n      <th>37726</th>\n      <td>100.0</td>\n      <td>wheat</td>\n      <td>nutrients_compounds</td>\n      <td>4.0</td>\n      <td>2.0</td>\n      <td>0.001</td>\n      <td>5.0</td>\n    </tr>\n    <tr>\n      <th>37727</th>\n      <td>100.0</td>\n      <td>wheat</td>\n      <td>nutrients_compounds</td>\n      <td>5.0</td>\n      <td>5.0</td>\n      <td>0.100</td>\n      <td>29.0</td>\n    </tr>\n    <tr>\n      <th>37728</th>\n      <td>100.0</td>\n      <td>wheat</td>\n      <td>nutrients_compounds</td>\n      <td>6.0</td>\n      <td>7.0</td>\n      <td>35.250</td>\n      <td>38.0</td>\n    </tr>\n    <tr>\n      <th>37729</th>\n      <td>100.0</td>\n      <td>wheat</td>\n      <td>nutrients_compounds</td>\n      <td>7.0</td>\n      <td>7.0</td>\n      <td>35.250</td>\n      <td>44.0</td>\n    </tr>\n    <tr>\n      <th>37730</th>\n      <td>100.0</td>\n      <td>wheat</td>\n      <td>nutrients_compounds</td>\n      <td>8.0</td>\n      <td>7.0</td>\n      <td>35.250</td>\n      <td>46.0</td>\n    </tr>\n    <tr>\n      <th>37731</th>\n      <td>100.0</td>\n      <td>wheat</td>\n      <td>nutrients_compounds</td>\n      <td>9.0</td>\n      <td>7.0</td>\n      <td>35.250</td>\n      <td>49.0</td>\n    </tr>\n    <tr>\n      <th>37732</th>\n      <td>100.0</td>\n      <td>wheat</td>\n      <td>nutrients_compounds</td>\n      <td>10.0</td>\n      <td>7.0</td>\n      <td>35.250</td>\n      <td>50.0</td>\n    </tr>\n    <tr>\n      <th>37733</th>\n      <td>100.0</td>\n      <td>wheat</td>\n      <td>nutrients_compounds</td>\n      <td>11.0</td>\n      <td>7.0</td>\n      <td>35.250</td>\n      <td>53.0</td>\n    </tr>\n    <tr>\n      <th>37734</th>\n      <td>100.0</td>\n      <td>wheat</td>\n      <td>nutrients_compounds</td>\n      <td>12.0</td>\n      <td>7.0</td>\n      <td>35.250</td>\n      <td>55.0</td>\n    </tr>\n    <tr>\n      <th>37735</th>\n      <td>100.0</td>\n      <td>wheat</td>\n      <td>nutrients_compounds</td>\n      <td>13.0</td>\n      <td>7.0</td>\n      <td>17.625</td>\n      <td>39.0</td>\n    </tr>\n    <tr>\n      <th>37736</th>\n      <td>100.0</td>\n      <td>wheat</td>\n      <td>nutrients_compounds</td>\n      <td>14.0</td>\n      <td>8.0</td>\n      <td>16.250</td>\n      <td>70.0</td>\n    </tr>\n    <tr>\n      <th>37737</th>\n      <td>100.0</td>\n      <td>wheat</td>\n      <td>nutrients_compounds</td>\n      <td>15.0</td>\n      <td>8.0</td>\n      <td>16.250</td>\n      <td>71.0</td>\n    </tr>\n    <tr>\n      <th>37738</th>\n      <td>100.0</td>\n      <td>wheat</td>\n      <td>nutrients_compounds</td>\n      <td>16.0</td>\n      <td>9.0</td>\n      <td>1.500</td>\n      <td>72.0</td>\n    </tr>\n    <tr>\n      <th>37739</th>\n      <td>100.0</td>\n      <td>wheat</td>\n      <td>nutrients_compounds</td>\n      <td>17.0</td>\n      <td>9.0</td>\n      <td>1.500</td>\n      <td>73.0</td>\n    </tr>\n    <tr>\n      <th>37740</th>\n      <td>100.0</td>\n      <td>wheat</td>\n      <td>nutrients_compounds</td>\n      <td>18.0</td>\n      <td>11.0</td>\n      <td>1.250</td>\n      <td>81.0</td>\n    </tr>\n    <tr>\n      <th>37741</th>\n      <td>100.0</td>\n      <td>wheat</td>\n      <td>nutrients_compounds</td>\n      <td>19.0</td>\n      <td>11.0</td>\n      <td>1.250</td>\n      <td>82.0</td>\n    </tr>\n    <tr>\n      <th>37742</th>\n      <td>100.0</td>\n      <td>wheat</td>\n      <td>nutrients_compounds</td>\n      <td>20.0</td>\n      <td>12.0</td>\n      <td>0.625</td>\n      <td>85.0</td>\n    </tr>\n    <tr>\n      <th>37743</th>\n      <td>100.0</td>\n      <td>wheat</td>\n      <td>nutrients_compounds</td>\n      <td>21.0</td>\n      <td>12.0</td>\n      <td>0.625</td>\n      <td>86.0</td>\n    </tr>\n    <tr>\n      <th>37744</th>\n      <td>100.0</td>\n      <td>wheat</td>\n      <td>nutrients_compounds</td>\n      <td>22.0</td>\n      <td>15.0</td>\n      <td>12.500</td>\n      <td>105.0</td>\n    </tr>\n  </tbody>\n</table>\n</div>"
     },
     "metadata": {},
     "execution_count": 66
    }
   ],
   "source": [
    "df[df.country == 100.0]"
   ]
  },
  {
   "cell_type": "code",
   "execution_count": 67,
   "metadata": {},
   "outputs": [],
   "source": [
    "def build_data():\n",
    "    data = []\n",
    "    for country in df.country.unique():\n",
    "        country_df = df[df.country == country]\n",
    "        datum = structures.Country(code=country)\n",
    "        foods = list(country_df.food.unique())\n",
    "        for food in foods:\n",
    "            food_item = structures.Food(name=food)\n",
    "            food_df = country_df[country_df.food == food]\n",
    "            nutrients = list(food_df.nutrient.unique())\n",
    "            if any(nutrients):\n",
    "                for nutrient in nutrients:\n",
    "                    nutrient_df = food_df[food_df.nutrient == nutrient]\n",
    "                    compounds = list(nutrient_df.compound.unique())\n",
    "                    if any(compounds):\n",
    "                        nutrient_item = structures.Nutrient(\n",
    "                            name=nutrient,\n",
    "                            compounds=[structures.Compound(name=c) for c in compounds],\n",
    "                        )\n",
    "                        food_item.nutrients.append(nutrient_item)\n",
    "                        datum.foods.append(food_item)\n",
    "        data.append(datum)\n",
    "    return data\n"
   ]
  },
  {
   "cell_type": "code",
   "execution_count": 68,
   "metadata": {},
   "outputs": [],
   "source": [
    "data = build_data()"
   ]
  },
  {
   "cell_type": "code",
   "execution_count": 78,
   "metadata": {},
   "outputs": [
    {
     "output_type": "execute_result",
     "data": {
      "text/plain": "[Food(name=&#39;salt&#39;, nutrients=[Nutrient(name=&#39;6.0&#39;, compounds=[Compound(name=&#39;1.0&#39;)], recommendation_status=&#39;None&#39;)])]"
     },
     "metadata": {},
     "execution_count": 78
    }
   ],
   "source": [
    "data[0].foods"
   ]
  },
  {
   "cell_type": "code",
   "execution_count": 70,
   "metadata": {},
   "outputs": [],
   "source": [
    "import enum\n",
    "\n",
    "class CompoundEnum(enum.Enum):\n",
    "    Ferrous_Sulfate = 50\n",
    "    Ferrous_Fumerate = 55\n",
    "    NaFeEDTA = 64\n",
    "    Electrolytic_Iron = 38\n",
    "    Folic_Acid = 29\n",
    "    Zinc_Oxide =  104\n",
    "    Zinc_Sulfate = 105\n",
    "    Cyanocobalamin = 4\n",
    "    Vitamin_A_Palmitate = 86\n",
    "\n",
    "    def pretty(self):\n",
    "        return self.name.replace('_', ' ')\n"
   ]
  },
  {
   "cell_type": "code",
   "execution_count": 71,
   "metadata": {},
   "outputs": [
    {
     "output_type": "execute_result",
     "data": {
      "text/plain": "&#39;Vitamin A Palmitate&#39;"
     },
     "metadata": {},
     "execution_count": 71
    }
   ],
   "source": [
    "CompoundEnum(86).pretty()"
   ]
  },
  {
   "cell_type": "code",
   "execution_count": 72,
   "metadata": {},
   "outputs": [
    {
     "output_type": "execute_result",
     "data": {
      "text/plain": "{4, 29, 38, 50, 55, 64, 86, 104, 105}"
     },
     "metadata": {},
     "execution_count": 72
    }
   ],
   "source": [
    "{c.value for c in CompoundEnum}"
   ]
  },
  {
   "cell_type": "code",
   "execution_count": 73,
   "metadata": {},
   "outputs": [],
   "source": [
    "def check_nutrient_compounds(nutrient: structures.Nutrient) -> str:\n",
    "    who_recommendations = [c.value for c in CompoundEnum]\n",
    "    if all(int(float(n.name)) in who_recommendations for n in nutrient.compounds):\n",
    "        return 'All recommended'\n",
    "    elif any(int(float(n.name)) in who_recommendations for n in nutrient.compounds):\n",
    "        return 'Both'\n",
    "    else:\n",
    "        return 'None'\n"
   ]
  },
  {
   "cell_type": "code",
   "execution_count": 75,
   "metadata": {
    "tags": []
   },
   "outputs": [
    {
     "output_type": "stream",
     "name": "stdout",
     "text": "[&#39;All recommended&#39;, &#39;All recommended&#39;, &#39;All recommended&#39;, &#39;All recommended&#39;]\n***********\n[&#39;All recommended&#39;, &#39;All recommended&#39;, &#39;All recommended&#39;, &#39;All recommended&#39;]\n***********\n[&#39;All recommended&#39;, &#39;All recommended&#39;, &#39;All recommended&#39;, &#39;All recommended&#39;]\n***********\n[&#39;All recommended&#39;, &#39;All recommended&#39;, &#39;All recommended&#39;, &#39;All recommended&#39;]\n***********\n"
    }
   ],
   "source": [
    "for food in data[1].foods:\n",
    "    if food.name == 'wheat':\n",
    "        printer.pprint([check_nutrient_compounds(n) for n in food.nutrients])\n",
    "        #printer.pprint(all_comps)\n",
    "        #printer.pprint(food.nutrients)\n",
    "        print('***********')\n",
    "    else:\n",
    "        continue"
   ]
  },
  {
   "cell_type": "code",
   "execution_count": 76,
   "metadata": {},
   "outputs": [],
   "source": [
    "for country in data:\n",
    "    for food in country.foods:\n",
    "        for nutrient in food.nutrients:\n",
    "            nutrient.recommendation_status = check_nutrient_compounds(nutrient)"
   ]
  },
  {
   "cell_type": "code",
   "execution_count": 77,
   "metadata": {
    "tags": []
   },
   "outputs": [
    {
     "output_type": "stream",
     "name": "stdout",
     "text": "[   Food(name=&#39;salt&#39;, nutrients=[Nutrient(name=&#39;6.0&#39;, compounds=[Compound(name=&#39;33.0&#39;)], recommendation_status=&#39;None&#39;), Nutrient(name=&#39;7.0&#39;, compounds=[Compound(name=&#39;50.0&#39;), Compound(name=&#39;55.0&#39;)], recommendation_status=&#39;All recommended&#39;)]),\n    Food(name=&#39;salt&#39;, nutrients=[Nutrient(name=&#39;6.0&#39;, compounds=[Compound(name=&#39;33.0&#39;)], recommendation_status=&#39;None&#39;), Nutrient(name=&#39;7.0&#39;, compounds=[Compound(name=&#39;50.0&#39;), Compound(name=&#39;55.0&#39;)], recommendation_status=&#39;All recommended&#39;)]),\n    Food(name=&#39;wheat&#39;, nutrients=[Nutrient(name=&#39;1.0&#39;, compounds=[Compound(name=&#39;2.0&#39;), Compound(name=&#39;3.0&#39;)], recommendation_status=&#39;None&#39;), Nutrient(name=&#39;2.0&#39;, compounds=[Compound(name=&#39;4.0&#39;), Compound(name=&#39;5.0&#39;)], recommendation_status=&#39;Both&#39;), Nutrient(name=&#39;5.0&#39;, compounds=[Compound(name=&#39;29.0&#39;)], recommendation_status=&#39;All recommended&#39;), Nutrient(name=&#39;7.0&#39;, compounds=[Compound(name=&#39;38.0&#39;), Compound(name=&#39;44.0&#39;), Compound(name=&#39;46.0&#39;), Compound(name=&#39;49.0&#39;), Compound(name=&#39;50.0&#39;), Compound(name=&#39;53.0&#39;), Compound(name=&#39;55.0&#39;), Compound(name=&#39;39.0&#39;)], recommendation_status=&#39;Both&#39;), Nutrient(name=&#39;8.0&#39;, compounds=[Compound(name=&#39;70.0&#39;), Compound(name=&#39;71.0&#39;)], recommendation_status=&#39;None&#39;), Nutrient(name=&#39;9.0&#39;, compounds=[Compound(name=&#39;72.0&#39;), Compound(name=&#39;73.0&#39;)], recommendation_status=&#39;None&#39;), Nutrient(name=&#39;11.0&#39;, compounds=[Compound(name=&#39;81.0&#39;), Compound(name=&#39;82.0&#39;)], recommendation_status=&#39;None&#39;), Nutrient(name=&#39;12.0&#39;, compounds=[Compound(name=&#39;85.0&#39;), Compound(name=&#39;86.0&#39;)], recommendation_status=&#39;Both&#39;), Nutrient(name=&#39;15.0&#39;, compounds=[Compound(name=&#39;105.0&#39;)], recommendation_status=&#39;All recommended&#39;)]),\n    Food(name=&#39;wheat&#39;, nutrients=[Nutrient(name=&#39;1.0&#39;, compounds=[Compound(name=&#39;2.0&#39;), Compound(name=&#39;3.0&#39;)], recommendation_status=&#39;None&#39;), Nutrient(name=&#39;2.0&#39;, compounds=[Compound(name=&#39;4.0&#39;), Compound(name=&#39;5.0&#39;)], recommendation_status=&#39;Both&#39;), Nutrient(name=&#39;5.0&#39;, compounds=[Compound(name=&#39;29.0&#39;)], recommendation_status=&#39;All recommended&#39;), Nutrient(name=&#39;7.0&#39;, compounds=[Compound(name=&#39;38.0&#39;), Compound(name=&#39;44.0&#39;), Compound(name=&#39;46.0&#39;), Compound(name=&#39;49.0&#39;), Compound(name=&#39;50.0&#39;), Compound(name=&#39;53.0&#39;), Compound(name=&#39;55.0&#39;), Compound(name=&#39;39.0&#39;)], recommendation_status=&#39;Both&#39;), Nutrient(name=&#39;8.0&#39;, compounds=[Compound(name=&#39;70.0&#39;), Compound(name=&#39;71.0&#39;)], recommendation_status=&#39;None&#39;), Nutrient(name=&#39;9.0&#39;, compounds=[Compound(name=&#39;72.0&#39;), Compound(name=&#39;73.0&#39;)], recommendation_status=&#39;None&#39;), Nutrient(name=&#39;11.0&#39;, compounds=[Compound(name=&#39;81.0&#39;), Compound(name=&#39;82.0&#39;)], recommendation_status=&#39;None&#39;), Nutrient(name=&#39;12.0&#39;, compounds=[Compound(name=&#39;85.0&#39;), Compound(name=&#39;86.0&#39;)], recommendation_status=&#39;Both&#39;), Nutrient(name=&#39;15.0&#39;, compounds=[Compound(name=&#39;105.0&#39;)], recommendation_status=&#39;All recommended&#39;)]),\n    Food(name=&#39;wheat&#39;, nutrients=[Nutrient(name=&#39;1.0&#39;, compounds=[Compound(name=&#39;2.0&#39;), Compound(name=&#39;3.0&#39;)], recommendation_status=&#39;None&#39;), Nutrient(name=&#39;2.0&#39;, compounds=[Compound(name=&#39;4.0&#39;), Compound(name=&#39;5.0&#39;)], recommendation_status=&#39;Both&#39;), Nutrient(name=&#39;5.0&#39;, compounds=[Compound(name=&#39;29.0&#39;)], recommendation_status=&#39;All recommended&#39;), Nutrient(name=&#39;7.0&#39;, compounds=[Compound(name=&#39;38.0&#39;), Compound(name=&#39;44.0&#39;), Compound(name=&#39;46.0&#39;), Compound(name=&#39;49.0&#39;), Compound(name=&#39;50.0&#39;), Compound(name=&#39;53.0&#39;), Compound(name=&#39;55.0&#39;), Compound(name=&#39;39.0&#39;)], recommendation_status=&#39;Both&#39;), Nutrient(name=&#39;8.0&#39;, compounds=[Compound(name=&#39;70.0&#39;), Compound(name=&#39;71.0&#39;)], recommendation_status=&#39;None&#39;), Nutrient(name=&#39;9.0&#39;, compounds=[Compound(name=&#39;72.0&#39;), Compound(name=&#39;73.0&#39;)], recommendation_status=&#39;None&#39;), Nutrient(name=&#39;11.0&#39;, compounds=[Compound(name=&#39;81.0&#39;), Compound(name=&#39;82.0&#39;)], recommendation_status=&#39;None&#39;), Nutrient(name=&#39;12.0&#39;, compounds=[Compound(name=&#39;85.0&#39;), Compound(name=&#39;86.0&#39;)], recommendation_status=&#39;Both&#39;), Nutrient(name=&#39;15.0&#39;, compounds=[Compound(name=&#39;105.0&#39;)], recommendation_status=&#39;All recommended&#39;)]),\n    Food(name=&#39;wheat&#39;, nutrients=[Nutrient(name=&#39;1.0&#39;, compounds=[Compound(name=&#39;2.0&#39;), Compound(name=&#39;3.0&#39;)], recommendation_status=&#39;None&#39;), Nutrient(name=&#39;2.0&#39;, compounds=[Compound(name=&#39;4.0&#39;), Compound(name=&#39;5.0&#39;)], recommendation_status=&#39;Both&#39;), Nutrient(name=&#39;5.0&#39;, compounds=[Compound(name=&#39;29.0&#39;)], recommendation_status=&#39;All recommended&#39;), Nutrient(name=&#39;7.0&#39;, compounds=[Compound(name=&#39;38.0&#39;), Compound(name=&#39;44.0&#39;), Compound(name=&#39;46.0&#39;), Compound(name=&#39;49.0&#39;), Compound(name=&#39;50.0&#39;), Compound(name=&#39;53.0&#39;), Compound(name=&#39;55.0&#39;), Compound(name=&#39;39.0&#39;)], recommendation_status=&#39;Both&#39;), Nutrient(name=&#39;8.0&#39;, compounds=[Compound(name=&#39;70.0&#39;), Compound(name=&#39;71.0&#39;)], recommendation_status=&#39;None&#39;), Nutrient(name=&#39;9.0&#39;, compounds=[Compound(name=&#39;72.0&#39;), Compound(name=&#39;73.0&#39;)], recommendation_status=&#39;None&#39;), Nutrient(name=&#39;11.0&#39;, compounds=[Compound(name=&#39;81.0&#39;), Compound(name=&#39;82.0&#39;)], recommendation_status=&#39;None&#39;), Nutrient(name=&#39;12.0&#39;, compounds=[Compound(name=&#39;85.0&#39;), Compound(name=&#39;86.0&#39;)], recommendation_status=&#39;Both&#39;), Nutrient(name=&#39;15.0&#39;, compounds=[Compound(name=&#39;105.0&#39;)], recommendation_status=&#39;All recommended&#39;)]),\n    Food(name=&#39;wheat&#39;, nutrients=[Nutrient(name=&#39;1.0&#39;, compounds=[Compound(name=&#39;2.0&#39;), Compound(name=&#39;3.0&#39;)], recommendation_status=&#39;None&#39;), Nutrient(name=&#39;2.0&#39;, compounds=[Compound(name=&#39;4.0&#39;), Compound(name=&#39;5.0&#39;)], recommendation_status=&#39;Both&#39;), Nutrient(name=&#39;5.0&#39;, compounds=[Compound(name=&#39;29.0&#39;)], recommendation_status=&#39;All recommended&#39;), Nutrient(name=&#39;7.0&#39;, compounds=[Compound(name=&#39;38.0&#39;), Compound(name=&#39;44.0&#39;), Compound(name=&#39;46.0&#39;), Compound(name=&#39;49.0&#39;), Compound(name=&#39;50.0&#39;), Compound(name=&#39;53.0&#39;), Compound(name=&#39;55.0&#39;), Compound(name=&#39;39.0&#39;)], recommendation_status=&#39;Both&#39;), Nutrient(name=&#39;8.0&#39;, compounds=[Compound(name=&#39;70.0&#39;), Compound(name=&#39;71.0&#39;)], recommendation_status=&#39;None&#39;), Nutrient(name=&#39;9.0&#39;, compounds=[Compound(name=&#39;72.0&#39;), Compound(name=&#39;73.0&#39;)], recommendation_status=&#39;None&#39;), Nutrient(name=&#39;11.0&#39;, compounds=[Compound(name=&#39;81.0&#39;), Compound(name=&#39;82.0&#39;)], recommendation_status=&#39;None&#39;), Nutrient(name=&#39;12.0&#39;, compounds=[Compound(name=&#39;85.0&#39;), Compound(name=&#39;86.0&#39;)], recommendation_status=&#39;Both&#39;), Nutrient(name=&#39;15.0&#39;, compounds=[Compound(name=&#39;105.0&#39;)], recommendation_status=&#39;All recommended&#39;)]),\n    Food(name=&#39;wheat&#39;, nutrients=[Nutrient(name=&#39;1.0&#39;, compounds=[Compound(name=&#39;2.0&#39;), Compound(name=&#39;3.0&#39;)], recommendation_status=&#39;None&#39;), Nutrient(name=&#39;2.0&#39;, compounds=[Compound(name=&#39;4.0&#39;), Compound(name=&#39;5.0&#39;)], recommendation_status=&#39;Both&#39;), Nutrient(name=&#39;5.0&#39;, compounds=[Compound(name=&#39;29.0&#39;)], recommendation_status=&#39;All recommended&#39;), Nutrient(name=&#39;7.0&#39;, compounds=[Compound(name=&#39;38.0&#39;), Compound(name=&#39;44.0&#39;), Compound(name=&#39;46.0&#39;), Compound(name=&#39;49.0&#39;), Compound(name=&#39;50.0&#39;), Compound(name=&#39;53.0&#39;), Compound(name=&#39;55.0&#39;), Compound(name=&#39;39.0&#39;)], recommendation_status=&#39;Both&#39;), Nutrient(name=&#39;8.0&#39;, compounds=[Compound(name=&#39;70.0&#39;), Compound(name=&#39;71.0&#39;)], recommendation_status=&#39;None&#39;), Nutrient(name=&#39;9.0&#39;, compounds=[Compound(name=&#39;72.0&#39;), Compound(name=&#39;73.0&#39;)], recommendation_status=&#39;None&#39;), Nutrient(name=&#39;11.0&#39;, compounds=[Compound(name=&#39;81.0&#39;), Compound(name=&#39;82.0&#39;)], recommendation_status=&#39;None&#39;), Nutrient(name=&#39;12.0&#39;, compounds=[Compound(name=&#39;85.0&#39;), Compound(name=&#39;86.0&#39;)], recommendation_status=&#39;Both&#39;), Nutrient(name=&#39;15.0&#39;, compounds=[Compound(name=&#39;105.0&#39;)], recommendation_status=&#39;All recommended&#39;)]),\n    Food(name=&#39;wheat&#39;, nutrients=[Nutrient(name=&#39;1.0&#39;, compounds=[Compound(name=&#39;2.0&#39;), Compound(name=&#39;3.0&#39;)], recommendation_status=&#39;None&#39;), Nutrient(name=&#39;2.0&#39;, compounds=[Compound(name=&#39;4.0&#39;), Compound(name=&#39;5.0&#39;)], recommendation_status=&#39;Both&#39;), Nutrient(name=&#39;5.0&#39;, compounds=[Compound(name=&#39;29.0&#39;)], recommendation_status=&#39;All recommended&#39;), Nutrient(name=&#39;7.0&#39;, compounds=[Compound(name=&#39;38.0&#39;), Compound(name=&#39;44.0&#39;), Compound(name=&#39;46.0&#39;), Compound(name=&#39;49.0&#39;), Compound(name=&#39;50.0&#39;), Compound(name=&#39;53.0&#39;), Compound(name=&#39;55.0&#39;), Compound(name=&#39;39.0&#39;)], recommendation_status=&#39;Both&#39;), Nutrient(name=&#39;8.0&#39;, compounds=[Compound(name=&#39;70.0&#39;), Compound(name=&#39;71.0&#39;)], recommendation_status=&#39;None&#39;), Nutrient(name=&#39;9.0&#39;, compounds=[Compound(name=&#39;72.0&#39;), Compound(name=&#39;73.0&#39;)], recommendation_status=&#39;None&#39;), Nutrient(name=&#39;11.0&#39;, compounds=[Compound(name=&#39;81.0&#39;), Compound(name=&#39;82.0&#39;)], recommendation_status=&#39;None&#39;), Nutrient(name=&#39;12.0&#39;, compounds=[Compound(name=&#39;85.0&#39;), Compound(name=&#39;86.0&#39;)], recommendation_status=&#39;Both&#39;), Nutrient(name=&#39;15.0&#39;, compounds=[Compound(name=&#39;105.0&#39;)], recommendation_status=&#39;All recommended&#39;)]),\n    Food(name=&#39;wheat&#39;, nutrients=[Nutrient(name=&#39;1.0&#39;, compounds=[Compound(name=&#39;2.0&#39;), Compound(name=&#39;3.0&#39;)], recommendation_status=&#39;None&#39;), Nutrient(name=&#39;2.0&#39;, compounds=[Compound(name=&#39;4.0&#39;), Compound(name=&#39;5.0&#39;)], recommendation_status=&#39;Both&#39;), Nutrient(name=&#39;5.0&#39;, compounds=[Compound(name=&#39;29.0&#39;)], recommendation_status=&#39;All recommended&#39;), Nutrient(name=&#39;7.0&#39;, compounds=[Compound(name=&#39;38.0&#39;), Compound(name=&#39;44.0&#39;), Compound(name=&#39;46.0&#39;), Compound(name=&#39;49.0&#39;), Compound(name=&#39;50.0&#39;), Compound(name=&#39;53.0&#39;), Compound(name=&#39;55.0&#39;), Compound(name=&#39;39.0&#39;)], recommendation_status=&#39;Both&#39;), Nutrient(name=&#39;8.0&#39;, compounds=[Compound(name=&#39;70.0&#39;), Compound(name=&#39;71.0&#39;)], recommendation_status=&#39;None&#39;), Nutrient(name=&#39;9.0&#39;, compounds=[Compound(name=&#39;72.0&#39;), Compound(name=&#39;73.0&#39;)], recommendation_status=&#39;None&#39;), Nutrient(name=&#39;11.0&#39;, compounds=[Compound(name=&#39;81.0&#39;), Compound(name=&#39;82.0&#39;)], recommendation_status=&#39;None&#39;), Nutrient(name=&#39;12.0&#39;, compounds=[Compound(name=&#39;85.0&#39;), Compound(name=&#39;86.0&#39;)], recommendation_status=&#39;Both&#39;), Nutrient(name=&#39;15.0&#39;, compounds=[Compound(name=&#39;105.0&#39;)], recommendation_status=&#39;All recommended&#39;)]),\n    Food(name=&#39;wheat&#39;, nutrients=[Nutrient(name=&#39;1.0&#39;, compounds=[Compound(name=&#39;2.0&#39;), Compound(name=&#39;3.0&#39;)], recommendation_status=&#39;None&#39;), Nutrient(name=&#39;2.0&#39;, compounds=[Compound(name=&#39;4.0&#39;), Compound(name=&#39;5.0&#39;)], recommendation_status=&#39;Both&#39;), Nutrient(name=&#39;5.0&#39;, compounds=[Compound(name=&#39;29.0&#39;)], recommendation_status=&#39;All recommended&#39;), Nutrient(name=&#39;7.0&#39;, compounds=[Compound(name=&#39;38.0&#39;), Compound(name=&#39;44.0&#39;), Compound(name=&#39;46.0&#39;), Compound(name=&#39;49.0&#39;), Compound(name=&#39;50.0&#39;), Compound(name=&#39;53.0&#39;), Compound(name=&#39;55.0&#39;), Compound(name=&#39;39.0&#39;)], recommendation_status=&#39;Both&#39;), Nutrient(name=&#39;8.0&#39;, compounds=[Compound(name=&#39;70.0&#39;), Compound(name=&#39;71.0&#39;)], recommendation_status=&#39;None&#39;), Nutrient(name=&#39;9.0&#39;, compounds=[Compound(name=&#39;72.0&#39;), Compound(name=&#39;73.0&#39;)], recommendation_status=&#39;None&#39;), Nutrient(name=&#39;11.0&#39;, compounds=[Compound(name=&#39;81.0&#39;), Compound(name=&#39;82.0&#39;)], recommendation_status=&#39;None&#39;), Nutrient(name=&#39;12.0&#39;, compounds=[Compound(name=&#39;85.0&#39;), Compound(name=&#39;86.0&#39;)], recommendation_status=&#39;Both&#39;), Nutrient(name=&#39;15.0&#39;, compounds=[Compound(name=&#39;105.0&#39;)], recommendation_status=&#39;All recommended&#39;)])]\n"
    }
   ],
   "source": [
    "printer.pprint(next((c for c in data if c.code == 100)).foods)"
   ]
  },
  {
   "cell_type": "code",
   "execution_count": 92,
   "metadata": {},
   "outputs": [
    {
     "output_type": "execute_result",
     "data": {
      "text/plain": "   country_code    country_name\n0           1.0         Armenia\n1           2.0     Afghanistan\n2           3.0         Albania\n3           4.0         Algeria\n4           5.0  American Samoa",
      "text/html": "<div>\n<style scoped>\n    .dataframe tbody tr th:only-of-type {\n        vertical-align: middle;\n    }\n\n    .dataframe tbody tr th {\n        vertical-align: top;\n    }\n\n    .dataframe thead th {\n        text-align: right;\n    }\n</style>\n<table border=\"1\" class=\"dataframe\">\n  <thead>\n    <tr style=\"text-align: right;\">\n      <th></th>\n      <th>country_code</th>\n      <th>country_name</th>\n    </tr>\n  </thead>\n  <tbody>\n    <tr>\n      <th>0</th>\n      <td>1.0</td>\n      <td>Armenia</td>\n    </tr>\n    <tr>\n      <th>1</th>\n      <td>2.0</td>\n      <td>Afghanistan</td>\n    </tr>\n    <tr>\n      <th>2</th>\n      <td>3.0</td>\n      <td>Albania</td>\n    </tr>\n    <tr>\n      <th>3</th>\n      <td>4.0</td>\n      <td>Algeria</td>\n    </tr>\n    <tr>\n      <th>4</th>\n      <td>5.0</td>\n      <td>American Samoa</td>\n    </tr>\n  </tbody>\n</table>\n</div>"
     },
     "metadata": {},
     "execution_count": 92
    }
   ],
   "source": [
    "country_reference = pd.read_csv('../data/code-name.csv')\n",
    "country_reference.head()\n",
    "country_dict = dict(zip(country_reference.country_code, country_reference.country_name))\n",
    "country_reference.head()"
   ]
  },
  {
   "cell_type": "code",
   "execution_count": 113,
   "metadata": {},
   "outputs": [
    {
     "output_type": "execute_result",
     "data": {
      "text/plain": "   country_code         country_name              COUNTRY  GDP (BILLIONS) CODE\n0           1.0              Armenia              Armenia           10.88  ARM\n1           2.0          Afghanistan          Afghanistan           21.71  AFG\n2           3.0              Albania              Albania           13.40  ALB\n3           4.0              Algeria              Algeria          227.80  DZA\n4           5.0       American Samoa       American Samoa            0.75  ASM\n5           6.0              Andorra              Andorra            4.80  AND\n6           7.0               Angola               Angola          131.40  AGO\n7           8.0  Antigua and Barbuda  Antigua and Barbuda            1.24  ATG\n8           9.0            Argentina            Argentina          536.20  ARG\n9          10.0            Australia            Australia         1483.00  AUS",
      "text/html": "<div>\n<style scoped>\n    .dataframe tbody tr th:only-of-type {\n        vertical-align: middle;\n    }\n\n    .dataframe tbody tr th {\n        vertical-align: top;\n    }\n\n    .dataframe thead th {\n        text-align: right;\n    }\n</style>\n<table border=\"1\" class=\"dataframe\">\n  <thead>\n    <tr style=\"text-align: right;\">\n      <th></th>\n      <th>country_code</th>\n      <th>country_name</th>\n      <th>COUNTRY</th>\n      <th>GDP (BILLIONS)</th>\n      <th>CODE</th>\n    </tr>\n  </thead>\n  <tbody>\n    <tr>\n      <th>0</th>\n      <td>1.0</td>\n      <td>Armenia</td>\n      <td>Armenia</td>\n      <td>10.88</td>\n      <td>ARM</td>\n    </tr>\n    <tr>\n      <th>1</th>\n      <td>2.0</td>\n      <td>Afghanistan</td>\n      <td>Afghanistan</td>\n      <td>21.71</td>\n      <td>AFG</td>\n    </tr>\n    <tr>\n      <th>2</th>\n      <td>3.0</td>\n      <td>Albania</td>\n      <td>Albania</td>\n      <td>13.40</td>\n      <td>ALB</td>\n    </tr>\n    <tr>\n      <th>3</th>\n      <td>4.0</td>\n      <td>Algeria</td>\n      <td>Algeria</td>\n      <td>227.80</td>\n      <td>DZA</td>\n    </tr>\n    <tr>\n      <th>4</th>\n      <td>5.0</td>\n      <td>American Samoa</td>\n      <td>American Samoa</td>\n      <td>0.75</td>\n      <td>ASM</td>\n    </tr>\n    <tr>\n      <th>5</th>\n      <td>6.0</td>\n      <td>Andorra</td>\n      <td>Andorra</td>\n      <td>4.80</td>\n      <td>AND</td>\n    </tr>\n    <tr>\n      <th>6</th>\n      <td>7.0</td>\n      <td>Angola</td>\n      <td>Angola</td>\n      <td>131.40</td>\n      <td>AGO</td>\n    </tr>\n    <tr>\n      <th>7</th>\n      <td>8.0</td>\n      <td>Antigua and Barbuda</td>\n      <td>Antigua and Barbuda</td>\n      <td>1.24</td>\n      <td>ATG</td>\n    </tr>\n    <tr>\n      <th>8</th>\n      <td>9.0</td>\n      <td>Argentina</td>\n      <td>Argentina</td>\n      <td>536.20</td>\n      <td>ARG</td>\n    </tr>\n    <tr>\n      <th>9</th>\n      <td>10.0</td>\n      <td>Australia</td>\n      <td>Australia</td>\n      <td>1483.00</td>\n      <td>AUS</td>\n    </tr>\n  </tbody>\n</table>\n</div>"
     },
     "metadata": {},
     "execution_count": 113
    }
   ],
   "source": [
    "merged = country_reference.merge(df, how='inner', left_on=['country_name'], right_on=['COUNTRY'])\n",
    "merged.head(10)"
   ]
  },
  {
   "cell_type": "code",
   "execution_count": 123,
   "metadata": {},
   "outputs": [
    {
     "output_type": "execute_result",
     "data": {
      "text/plain": "country_code                        8\ncountry_name      Antigua and Barbuda\nCOUNTRY           Antigua and Barbuda\nGDP (BILLIONS)                   1.24\nCODE                              ATG\nName: 7, dtype: object"
     },
     "metadata": {},
     "execution_count": 123
    }
   ],
   "source": [
    "merged.loc[7]"
   ]
  },
  {
   "cell_type": "code",
   "execution_count": 124,
   "metadata": {},
   "outputs": [
    {
     "output_type": "execute_result",
     "data": {
      "text/plain": "[Country(code=8, name=&#39;Antigua and Barbuda&#39;, foods=[Food(name=&#39;wheat&#39;, nutrients=[Nutrient(name=&#39;3.0&#39;, compounds=[Compound(name=&#39;1.0&#39;)], recommendation_status=&#39;None&#39;), Nutrient(name=&#39;7.0&#39;, compounds=[Compound(name=&#39;1.0&#39;)], recommendation_status=&#39;None&#39;), Nutrient(name=&#39;8.0&#39;, compounds=[Compound(name=&#39;71.0&#39;)], recommendation_status=&#39;None&#39;), Nutrient(name=&#39;9.0&#39;, compounds=[Compound(name=&#39;72.0&#39;)], recommendation_status=&#39;None&#39;), Nutrient(name=&#39;11.0&#39;, compounds=[Compound(name=&#39;80.0&#39;)], recommendation_status=&#39;None&#39;)]), Food(name=&#39;wheat&#39;, nutrients=[Nutrient(name=&#39;3.0&#39;, compounds=[Compound(name=&#39;1.0&#39;)], recommendation_status=&#39;None&#39;), Nutrient(name=&#39;7.0&#39;, compounds=[Compound(name=&#39;1.0&#39;)], recommendation_status=&#39;None&#39;), Nutrient(name=&#39;8.0&#39;, compounds=[Compound(name=&#39;71.0&#39;)], recommendation_status=&#39;None&#39;), Nutrient(name=&#39;9.0&#39;, compounds=[Compound(name=&#39;72.0&#39;)], recommendation_status=&#39;None&#39;), Nutrient(name=&#39;11.0&#39;, compounds=[Compound(name=&#39;80.0&#39;)], recommendation_status=&#39;None&#39;)]), Food(name=&#39;wheat&#39;, nutrients=[Nutrient(name=&#39;3.0&#39;, compounds=[Compound(name=&#39;1.0&#39;)], recommendation_status=&#39;None&#39;), Nutrient(name=&#39;7.0&#39;, compounds=[Compound(name=&#39;1.0&#39;)], recommendation_status=&#39;None&#39;), Nutrient(name=&#39;8.0&#39;, compounds=[Compound(name=&#39;71.0&#39;)], recommendation_status=&#39;None&#39;), Nutrient(name=&#39;9.0&#39;, compounds=[Compound(name=&#39;72.0&#39;)], recommendation_status=&#39;None&#39;), Nutrient(name=&#39;11.0&#39;, compounds=[Compound(name=&#39;80.0&#39;)], recommendation_status=&#39;None&#39;)]), Food(name=&#39;wheat&#39;, nutrients=[Nutrient(name=&#39;3.0&#39;, compounds=[Compound(name=&#39;1.0&#39;)], recommendation_status=&#39;None&#39;), Nutrient(name=&#39;7.0&#39;, compounds=[Compound(name=&#39;1.0&#39;)], recommendation_status=&#39;None&#39;), Nutrient(name=&#39;8.0&#39;, compounds=[Compound(name=&#39;71.0&#39;)], recommendation_status=&#39;None&#39;), Nutrient(name=&#39;9.0&#39;, compounds=[Compound(name=&#39;72.0&#39;)], recommendation_status=&#39;None&#39;), Nutrient(name=&#39;11.0&#39;, compounds=[Compound(name=&#39;80.0&#39;)], recommendation_status=&#39;None&#39;)]), Food(name=&#39;wheat&#39;, nutrients=[Nutrient(name=&#39;3.0&#39;, compounds=[Compound(name=&#39;1.0&#39;)], recommendation_status=&#39;None&#39;), Nutrient(name=&#39;7.0&#39;, compounds=[Compound(name=&#39;1.0&#39;)], recommendation_status=&#39;None&#39;), Nutrient(name=&#39;8.0&#39;, compounds=[Compound(name=&#39;71.0&#39;)], recommendation_status=&#39;None&#39;), Nutrient(name=&#39;9.0&#39;, compounds=[Compound(name=&#39;72.0&#39;)], recommendation_status=&#39;None&#39;), Nutrient(name=&#39;11.0&#39;, compounds=[Compound(name=&#39;80.0&#39;)], recommendation_status=&#39;None&#39;)])])]"
     },
     "metadata": {},
     "execution_count": 124
    }
   ],
   "source": [
    "[d for d in data if d.code == 8]"
   ]
  },
  {
   "cell_type": "code",
   "execution_count": 126,
   "metadata": {
    "tags": []
   },
   "outputs": [
    {
     "output_type": "stream",
     "name": "stdout",
     "text": "No ass\nname=&#39;7.0&#39; compounds=[Compound(name=&#39;64.0&#39;)] recommendation_status=&#39;All recommended&#39;\nNo ass\nNo ass\nNo ass\nNo ass\nNo ass\nname=&#39;7.0&#39; compounds=[Compound(name=&#39;1.0&#39;)] recommendation_status=&#39;None&#39;\nname=&#39;7.0&#39; compounds=[Compound(name=&#39;55.0&#39;)] recommendation_status=&#39;All recommended&#39;\nNo ass\nNo ass\nname=&#39;7.0&#39; compounds=[Compound(name=&#39;65.0&#39;)] recommendation_status=&#39;None&#39;\nname=&#39;7.0&#39; compounds=[Compound(name=&#39;1.0&#39;)] recommendation_status=&#39;None&#39;\nname=&#39;7.0&#39; compounds=[Compound(name=&#39;1.0&#39;)] recommendation_status=&#39;None&#39;\nNo ass\nNo ass\nNo ass\nname=&#39;7.0&#39; compounds=[Compound(name=&#39;50.0&#39;), Compound(name=&#39;55.0&#39;)] recommendation_status=&#39;All recommended&#39;\nNo ass\nname=&#39;7.0&#39; compounds=[Compound(name=&#39;1.0&#39;)] recommendation_status=&#39;None&#39;\nname=&#39;7.0&#39; compounds=[Compound(name=&#39;39.0&#39;), Compound(name=&#39;50.0&#39;)] recommendation_status=&#39;Both&#39;\nNo ass\nname=&#39;7.0&#39; compounds=[Compound(name=&#39;64.0&#39;), Compound(name=&#39;50.0&#39;)] recommendation_status=&#39;All recommended&#39;\nname=&#39;7.0&#39; compounds=[Compound(name=&#39;50.0&#39;)] recommendation_status=&#39;All recommended&#39;\nname=&#39;7.0&#39; compounds=[Compound(name=&#39;37.0&#39;), Compound(name=&#39;38.0&#39;), Compound(name=&#39;40.0&#39;), Compound(name=&#39;41.0&#39;), Compound(name=&#39;42.0&#39;), Compound(name=&#39;43.0&#39;), Compound(name=&#39;44.0&#39;), Compound(name=&#39;45.0&#39;), Compound(name=&#39;49.0&#39;), Compound(name=&#39;50.0&#39;), Compound(name=&#39;51.0&#39;), Compound(name=&#39;52.0&#39;), Compound(name=&#39;53.0&#39;), Compound(name=&#39;55.0&#39;), Compound(name=&#39;60.0&#39;), Compound(name=&#39;63.0&#39;), Compound(name=&#39;65.0&#39;), Compound(name=&#39;66.0&#39;), Compound(name=&#39;67.0&#39;), Compound(name=&#39;68.0&#39;)] recommendation_status=&#39;Both&#39;\nname=&#39;7.0&#39; compounds=[Compound(name=&#39;50.0&#39;), Compound(name=&#39;55.0&#39;), Compound(name=&#39;64.0&#39;)] recommendation_status=&#39;All recommended&#39;\nNo ass\nNo ass\nNo ass\nNo ass\nname=&#39;7.0&#39; compounds=[Compound(name=&#39;50.0&#39;), Compound(name=&#39;55.0&#39;)] recommendation_status=&#39;All recommended&#39;\nname=&#39;7.0&#39; compounds=[Compound(name=&#39;50.0&#39;), Compound(name=&#39;55.0&#39;), Compound(name=&#39;65.0&#39;)] recommendation_status=&#39;Both&#39;\nNo ass\nNo ass\nname=&#39;7.0&#39; compounds=[Compound(name=&#39;50.0&#39;)] recommendation_status=&#39;All recommended&#39;\nname=&#39;7.0&#39; compounds=[Compound(name=&#39;55.0&#39;)] recommendation_status=&#39;All recommended&#39;\nNo ass\nNo ass\nname=&#39;7.0&#39; compounds=[Compound(name=&#39;38.0&#39;), Compound(name=&#39;50.0&#39;), Compound(name=&#39;55.0&#39;)] recommendation_status=&#39;All recommended&#39;\nNo ass\nname=&#39;7.0&#39; compounds=[Compound(name=&#39;1.0&#39;)] recommendation_status=&#39;None&#39;\nname=&#39;7.0&#39; compounds=[Compound(name=&#39;50.0&#39;)] recommendation_status=&#39;All recommended&#39;\nNo ass\nname=&#39;7.0&#39; compounds=[Compound(name=&#39;50.0&#39;)] recommendation_status=&#39;All recommended&#39;\nNo ass\nname=&#39;7.0&#39; compounds=[Compound(name=&#39;50.0&#39;)] recommendation_status=&#39;All recommended&#39;\nNo ass\nNo ass\nNo ass\nname=&#39;7.0&#39; compounds=[Compound(name=&#39;50.0&#39;), Compound(name=&#39;38.0&#39;), Compound(name=&#39;39.0&#39;)] recommendation_status=&#39;Both&#39;\nNo ass\nNo ass\nNo ass\nname=&#39;7.0&#39; compounds=[Compound(name=&#39;38.0&#39;)] recommendation_status=&#39;All recommended&#39;\nNo ass\nNo ass\nNo ass\nNo ass\nname=&#39;7.0&#39; compounds=[Compound(name=&#39;50.0&#39;)] recommendation_status=&#39;All recommended&#39;\nNo ass\nname=&#39;7.0&#39; compounds=[Compound(name=&#39;50.0&#39;), Compound(name=&#39;39.0&#39;), Compound(name=&#39;38.0&#39;)] recommendation_status=&#39;Both&#39;\nNo ass\nNo ass\nname=&#39;7.0&#39; compounds=[Compound(name=&#39;1.0&#39;)] recommendation_status=&#39;None&#39;\nNo ass\nname=&#39;7.0&#39; compounds=[Compound(name=&#39;50.0&#39;)] recommendation_status=&#39;All recommended&#39;\nname=&#39;7.0&#39; compounds=[Compound(name=&#39;39.0&#39;)] recommendation_status=&#39;None&#39;\nname=&#39;7.0&#39; compounds=[Compound(name=&#39;1.0&#39;)] recommendation_status=&#39;None&#39;\nNo ass\nname=&#39;7.0&#39; compounds=[Compound(name=&#39;1.0&#39;)] recommendation_status=&#39;None&#39;\nNo ass\nNo ass\nNo ass\nname=&#39;7.0&#39; compounds=[Compound(name=&#39;38.0&#39;), Compound(name=&#39;44.0&#39;), Compound(name=&#39;46.0&#39;), Compound(name=&#39;49.0&#39;), Compound(name=&#39;50.0&#39;), Compound(name=&#39;53.0&#39;), Compound(name=&#39;55.0&#39;), Compound(name=&#39;39.0&#39;)] recommendation_status=&#39;Both&#39;\nname=&#39;7.0&#39; compounds=[Compound(name=&#39;1.0&#39;)] recommendation_status=&#39;None&#39;\nname=&#39;7.0&#39; compounds=[Compound(name=&#39;55.0&#39;)] recommendation_status=&#39;All recommended&#39;\nNo ass\nNo ass\nNo ass\nname=&#39;7.0&#39; compounds=[Compound(name=&#39;38.0&#39;), Compound(name=&#39;50.0&#39;)] recommendation_status=&#39;All recommended&#39;\nname=&#39;7.0&#39; compounds=[Compound(name=&#39;38.0&#39;)] recommendation_status=&#39;All recommended&#39;\nname=&#39;7.0&#39; compounds=[Compound(name=&#39;1.0&#39;)] recommendation_status=&#39;None&#39;\nNo ass\nname=&#39;7.0&#39; compounds=[Compound(name=&#39;55.0&#39;)] recommendation_status=&#39;All recommended&#39;\nNo ass\nname=&#39;7.0&#39; compounds=[Compound(name=&#39;64.0&#39;)] recommendation_status=&#39;All recommended&#39;\nNo ass\nname=&#39;7.0&#39; compounds=[Compound(name=&#39;1.0&#39;)] recommendation_status=&#39;None&#39;\nNo ass\nNo ass\nNo ass\nname=&#39;7.0&#39; compounds=[Compound(name=&#39;50.0&#39;)] recommendation_status=&#39;All recommended&#39;\nNo ass\nNo ass\nNo ass\nNo ass\nNo ass\nname=&#39;7.0&#39; compounds=[Compound(name=&#39;64.0&#39;)] recommendation_status=&#39;All recommended&#39;\nNo ass\nNo ass\nname=&#39;7.0&#39; compounds=[Compound(name=&#39;38.0&#39;), Compound(name=&#39;50.0&#39;), Compound(name=&#39;55.0&#39;)] recommendation_status=&#39;All recommended&#39;\nNo ass\nNo ass\nNo ass\nname=&#39;7.0&#39; compounds=[Compound(name=&#39;50.0&#39;), Compound(name=&#39;55.0&#39;)] recommendation_status=&#39;All recommended&#39;\nNo ass\nname=&#39;7.0&#39; compounds=[Compound(name=&#39;50.0&#39;)] recommendation_status=&#39;All recommended&#39;\nname=&#39;7.0&#39; compounds=[Compound(name=&#39;39.0&#39;)] recommendation_status=&#39;None&#39;\nname=&#39;7.0&#39; compounds=[Compound(name=&#39;55.0&#39;), Compound(name=&#39;64.0&#39;)] recommendation_status=&#39;All recommended&#39;\nNo ass\nNo ass\nname=&#39;7.0&#39; compounds=[Compound(name=&#39;39.0&#39;)] recommendation_status=&#39;None&#39;\nNo ass\nNo ass\nNo ass\nNo ass\nname=&#39;7.0&#39; compounds=[Compound(name=&#39;50.0&#39;)] recommendation_status=&#39;All recommended&#39;\nname=&#39;7.0&#39; compounds=[Compound(name=&#39;38.0&#39;), Compound(name=&#39;50.0&#39;), Compound(name=&#39;55.0&#39;)] recommendation_status=&#39;All recommended&#39;\nname=&#39;7.0&#39; compounds=[Compound(name=&#39;64.0&#39;)] recommendation_status=&#39;All recommended&#39;\nNo ass\nNo ass\nNo ass\nNo ass\nname=&#39;7.0&#39; compounds=[Compound(name=&#39;50.0&#39;)] recommendation_status=&#39;All recommended&#39;\nNo ass\nNo ass\nname=&#39;7.0&#39; compounds=[Compound(name=&#39;55.0&#39;)] recommendation_status=&#39;All recommended&#39;\nname=&#39;7.0&#39; compounds=[Compound(name=&#39;50.0&#39;), Compound(name=&#39;55.0&#39;)] recommendation_status=&#39;All recommended&#39;\nname=&#39;7.0&#39; compounds=[Compound(name=&#39;39.0&#39;), Compound(name=&#39;50.0&#39;), Compound(name=&#39;55.0&#39;)] recommendation_status=&#39;Both&#39;\nNo ass\nNo ass\nNo ass\nNo ass\nNo ass\nNo ass\nname=&#39;7.0&#39; compounds=[Compound(name=&#39;1.0&#39;)] recommendation_status=&#39;None&#39;\nNo ass\nname=&#39;7.0&#39; compounds=[Compound(name=&#39;64.0&#39;)] recommendation_status=&#39;All recommended&#39;\nNo ass\nNo ass\nname=&#39;7.0&#39; compounds=[Compound(name=&#39;1.0&#39;)] recommendation_status=&#39;None&#39;\nname=&#39;7.0&#39; compounds=[Compound(name=&#39;1.0&#39;)] recommendation_status=&#39;None&#39;\nNo ass\nname=&#39;7.0&#39; compounds=[Compound(name=&#39;1.0&#39;)] recommendation_status=&#39;None&#39;\nNo ass\nNo ass\nname=&#39;7.0&#39; compounds=[Compound(name=&#39;1.0&#39;)] recommendation_status=&#39;None&#39;\nname=&#39;7.0&#39; compounds=[Compound(name=&#39;50.0&#39;), Compound(name=&#39;55.0&#39;), Compound(name=&#39;64.0&#39;)] recommendation_status=&#39;All recommended&#39;\nNo ass\nname=&#39;7.0&#39; compounds=[Compound(name=&#39;1.0&#39;)] recommendation_status=&#39;None&#39;\nNo ass\nNo ass\nNo ass\nNo ass\nname=&#39;7.0&#39; compounds=[Compound(name=&#39;38.0&#39;)] recommendation_status=&#39;All recommended&#39;\nNo ass\nname=&#39;7.0&#39; compounds=[Compound(name=&#39;1.0&#39;)] recommendation_status=&#39;None&#39;\nNo ass\nNo ass\nNo ass\nname=&#39;7.0&#39; compounds=[Compound(name=&#39;1.0&#39;)] recommendation_status=&#39;None&#39;\nNo ass\nname=&#39;7.0&#39; compounds=[Compound(name=&#39;50.0&#39;)] recommendation_status=&#39;All recommended&#39;\nNo ass\nname=&#39;7.0&#39; compounds=[Compound(name=&#39;1.0&#39;)] recommendation_status=&#39;None&#39;\nname=&#39;7.0&#39; compounds=[Compound(name=&#39;38.0&#39;), Compound(name=&#39;55.0&#39;)] recommendation_status=&#39;All recommended&#39;\nNo ass\nNo ass\nname=&#39;7.0&#39; compounds=[Compound(name=&#39;1.0&#39;)] recommendation_status=&#39;None&#39;\nname=&#39;7.0&#39; compounds=[Compound(name=&#39;50.0&#39;), Compound(name=&#39;64.0&#39;)] recommendation_status=&#39;All recommended&#39;\nNo ass\nNo ass\nname=&#39;7.0&#39; compounds=[Compound(name=&#39;38.0&#39;), Compound(name=&#39;50.0&#39;), Compound(name=&#39;55.0&#39;)] recommendation_status=&#39;All recommended&#39;\nname=&#39;7.0&#39; compounds=[Compound(name=&#39;39.0&#39;), Compound(name=&#39;50.0&#39;), Compound(name=&#39;55.0&#39;)] recommendation_status=&#39;Both&#39;\nNo ass\nname=&#39;7.0&#39; compounds=[Compound(name=&#39;64.0&#39;), Compound(name=&#39;50.0&#39;)] recommendation_status=&#39;All recommended&#39;\nNo ass\nNo ass\nname=&#39;7.0&#39; compounds=[Compound(name=&#39;65.0&#39;)] recommendation_status=&#39;None&#39;\nname=&#39;7.0&#39; compounds=[Compound(name=&#39;1.0&#39;)] recommendation_status=&#39;None&#39;\nNo ass\nNo ass\nNo ass\nNo ass\nNo ass\nNo ass\nname=&#39;7.0&#39; compounds=[Compound(name=&#39;64.0&#39;), Compound(name=&#39;50.0&#39;), Compound(name=&#39;55.0&#39;), Compound(name=&#39;38.0&#39;)] recommendation_status=&#39;All recommended&#39;\nNo ass\n"
    },
    {
     "output_type": "execute_result",
     "data": {
      "text/plain": "   country_code    country_name         COUNTRY  GDP (BILLIONS) CODE  \\\n0           1.0         Armenia         Armenia           10.88  ARM   \n1           2.0     Afghanistan     Afghanistan           21.71  AFG   \n2           3.0         Albania         Albania           13.40  ALB   \n3           4.0         Algeria         Algeria          227.80  DZA   \n4           5.0  American Samoa  American Samoa            0.75  ASM   \n\n    recommendation  \n0           No ass  \n1  All recommended  \n2           No ass  \n3           No ass  \n4           No ass  ",
      "text/html": "<div>\n<style scoped>\n    .dataframe tbody tr th:only-of-type {\n        vertical-align: middle;\n    }\n\n    .dataframe tbody tr th {\n        vertical-align: top;\n    }\n\n    .dataframe thead th {\n        text-align: right;\n    }\n</style>\n<table border=\"1\" class=\"dataframe\">\n  <thead>\n    <tr style=\"text-align: right;\">\n      <th></th>\n      <th>country_code</th>\n      <th>country_name</th>\n      <th>COUNTRY</th>\n      <th>GDP (BILLIONS)</th>\n      <th>CODE</th>\n      <th>recommendation</th>\n    </tr>\n  </thead>\n  <tbody>\n    <tr>\n      <th>0</th>\n      <td>1.0</td>\n      <td>Armenia</td>\n      <td>Armenia</td>\n      <td>10.88</td>\n      <td>ARM</td>\n      <td>No ass</td>\n    </tr>\n    <tr>\n      <th>1</th>\n      <td>2.0</td>\n      <td>Afghanistan</td>\n      <td>Afghanistan</td>\n      <td>21.71</td>\n      <td>AFG</td>\n      <td>All recommended</td>\n    </tr>\n    <tr>\n      <th>2</th>\n      <td>3.0</td>\n      <td>Albania</td>\n      <td>Albania</td>\n      <td>13.40</td>\n      <td>ALB</td>\n      <td>No ass</td>\n    </tr>\n    <tr>\n      <th>3</th>\n      <td>4.0</td>\n      <td>Algeria</td>\n      <td>Algeria</td>\n      <td>227.80</td>\n      <td>DZA</td>\n      <td>No ass</td>\n    </tr>\n    <tr>\n      <th>4</th>\n      <td>5.0</td>\n      <td>American Samoa</td>\n      <td>American Samoa</td>\n      <td>0.75</td>\n      <td>ASM</td>\n      <td>No ass</td>\n    </tr>\n  </tbody>\n</table>\n</div>"
     },
     "metadata": {},
     "execution_count": 126
    }
   ],
   "source": [
    "statuses = dict()\n",
    "\n",
    "def get_wheat_status(row):\n",
    "    country = next((d for d in data if d.code == row.country_code), 'No ass')\n",
    "    if country == 'No ass':\n",
    "        print(country)\n",
    "        return country\n",
    "    food = next((f for f in country.foods if f.name == 'wheat'), 'No ass')\n",
    "    if food == 'No ass':\n",
    "        print(food)\n",
    "        return food\n",
    "    iron = next((n for n in food.nutrients if n.name == '7.0'), 'No ass')\n",
    "    if iron == 'No ass':\n",
    "        print(iron)\n",
    "        return iron    \n",
    "    print(iron)\n",
    "    return iron.recommendation_status\n",
    "\n",
    "merged['recommendation'] = merged.apply(lambda row: get_wheat_status(row), axis=1)\n",
    "merged.head()"
   ]
  },
  {
   "cell_type": "code",
   "execution_count": 140,
   "metadata": {
    "tags": []
   },
   "outputs": [
    {
     "output_type": "stream",
     "name": "stdout",
     "text": "   country_code    country_name         COUNTRY  GDP (BILLIONS) CODE  \\\n0           1.0         Armenia         Armenia           10.88  ARM   \n1           2.0     Afghanistan     Afghanistan           21.71  AFG   \n2           3.0         Albania         Albania           13.40  ALB   \n3           4.0         Algeria         Algeria          227.80  DZA   \n4           5.0  American Samoa  American Samoa            0.75  ASM   \n\n    recommendation      country continent    year  lifeExp         pop  \\\n0           No ass          NaN       NaN     NaN      NaN         NaN   \n1  All recommended  Afghanistan      Asia  2007.0   43.828  31889923.0   \n2           No ass      Albania    Europe  2007.0   76.423   3600523.0   \n3           No ass      Algeria    Africa  2007.0   72.301  33333216.0   \n4           No ass          NaN       NaN     NaN      NaN         NaN   \n\n     gdpPercap iso_alpha  iso_num  \n0          NaN       NaN      NaN  \n1   974.580338       AFG      4.0  \n2  5937.029526       ALB      8.0  \n3  6223.367465       DZA     12.0  \n4          NaN       NaN      NaN  \n"
    },
    {
     "output_type": "display_data",
     "data": {
      "application/vnd.plotly.v1+json": {
       "config": {
        "plotlyServerURL": "https://plot.ly"
       },
       "data": [
        {
         "colorscale": [
          [
           0,
           "#636efa"
          ],
          [
           1,
           "#636efa"
          ]
         ],
         "geo": "geo",
         "hovertemplate": "<b>%{hovertext}</b><br><br>recommendation=No ass<br>iso_alpha=%{location}<extra></extra>",
         "hovertext": [
          "Armenia",
          "Albania",
          "Algeria",
          "American Samoa",
          "Andorra",
          "Angola",
          "Australia",
          "Austria",
          "Bermuda",
          "Bhutan",
          "Botswana",
          "Aruba",
          "Bulgaria",
          "Cayman Islands",
          "Central African Republic",
          "Sri Lanka",
          "Chad",
          "Comoros",
          "Cook Islands",
          "Cyprus",
          "Azerbaijan",
          "Denmark",
          "Belarus",
          "Egypt",
          "Equatorial Guinea",
          "Estonia",
          "Faroe Islands",
          "Finland",
          "France",
          "French Polynesia",
          "Georgia",
          "Gabon",
          "Germany",
          "Bosnia and Herzegovina",
          "Gibraltar",
          "Greece",
          "Greenland",
          "Guam",
          "Haiti",
          "Hungary",
          "Croatia",
          "Iceland",
          "Ireland",
          "Israel",
          "Italy",
          "Japan",
          "Kyrgyzstan",
          "Cambodia",
          "Latvia",
          "Lebanon",
          "Lesotho",
          "Libya",
          "Liechtenstein",
          "Lithuania",
          "Marshall Islands",
          "Madagascar",
          "Malaysia",
          "Maldives",
          "Malta",
          "Mauritania",
          "Mauritius",
          "Monaco",
          "Micronesia, Federated States of",
          "Namibia",
          "Netherlands",
          "New Caledonia",
          "Vanuatu",
          "New Zealand",
          "Niue",
          "Norway",
          "Northern Mariana Islands",
          "Pakistan",
          "Czech Republic",
          "Papua New Guinea",
          "Poland",
          "Portugal",
          "Guinea-Bissau",
          "Timor-Leste",
          "Puerto Rico",
          "Eritrea",
          "Palau",
          "Romania",
          "Rwanda",
          "Saint Pierre and Miquelon",
          "San Marino",
          "Sao Tome and Principe",
          "Seychelles",
          "Slovenia",
          "Slovakia",
          "Singapore",
          "Somalia",
          "Spain",
          "Tajikistan",
          "Sweden",
          "Switzerland",
          "Thailand",
          "Tonga",
          "Tunisia",
          "Turkey",
          "Tuvalu",
          "Ukraine",
          "Uzbekistan",
          "British Virgin Islands",
          "Samoa",
          "Belgium",
          "Luxembourg",
          "Anguilla",
          "Isle of Man",
          "Serbia",
          "Montenegro",
          "South Sudan"
         ],
         "locations": [
          null,
          "ALB",
          "DZA",
          null,
          null,
          "AGO",
          "AUS",
          "AUT",
          null,
          null,
          "BWA",
          null,
          "BGR",
          null,
          "CAF",
          "LKA",
          "TCD",
          "COM",
          null,
          null,
          null,
          "DNK",
          null,
          "EGY",
          "GNQ",
          null,
          null,
          "FIN",
          "FRA",
          null,
          null,
          "GAB",
          "DEU",
          "BIH",
          null,
          "GRC",
          null,
          null,
          "HTI",
          "HUN",
          "HRV",
          "ISL",
          "IRL",
          "ISR",
          "ITA",
          "JPN",
          null,
          "KHM",
          null,
          "LBN",
          "LSO",
          "LBY",
          null,
          null,
          null,
          "MDG",
          "MYS",
          null,
          null,
          "MRT",
          "MUS",
          null,
          null,
          "NAM",
          "NLD",
          null,
          null,
          "NZL",
          null,
          "NOR",
          null,
          "PAK",
          "CZE",
          null,
          "POL",
          "PRT",
          "GNB",
          null,
          "PRI",
          "ERI",
          null,
          "ROU",
          "RWA",
          null,
          null,
          "STP",
          null,
          "SVN",
          null,
          "SGP",
          "SOM",
          "ESP",
          null,
          "SWE",
          "CHE",
          "THA",
          null,
          "TUN",
          "TUR",
          null,
          null,
          null,
          null,
          null,
          "BEL",
          null,
          null,
          null,
          "SRB",
          "MNE",
          null
         ],
         "name": "No ass",
         "showlegend": true,
         "showscale": false,
         "type": "choropleth",
         "z": [
          1,
          1,
          1,
          1,
          1,
          1,
          1,
          1,
          1,
          1,
          1,
          1,
          1,
          1,
          1,
          1,
          1,
          1,
          1,
          1,
          1,
          1,
          1,
          1,
          1,
          1,
          1,
          1,
          1,
          1,
          1,
          1,
          1,
          1,
          1,
          1,
          1,
          1,
          1,
          1,
          1,
          1,
          1,
          1,
          1,
          1,
          1,
          1,
          1,
          1,
          1,
          1,
          1,
          1,
          1,
          1,
          1,
          1,
          1,
          1,
          1,
          1,
          1,
          1,
          1,
          1,
          1,
          1,
          1,
          1,
          1,
          1,
          1,
          1,
          1,
          1,
          1,
          1,
          1,
          1,
          1,
          1,
          1,
          1,
          1,
          1,
          1,
          1,
          1,
          1,
          1,
          1,
          1,
          1,
          1,
          1,
          1,
          1,
          1,
          1,
          1,
          1,
          1,
          1,
          1,
          1,
          1,
          1,
          1,
          1,
          1
         ]
        },
        {
         "colorscale": [
          [
           0,
           "#EF553B"
          ],
          [
           1,
           "#EF553B"
          ]
         ],
         "geo": "geo",
         "hovertemplate": "<b>%{hovertext}</b><br><br>recommendation=All recommended<br>iso_alpha=%{location}<extra></extra>",
         "hovertext": [
          "Afghanistan",
          "Argentina",
          "Brazil",
          "Burundi",
          "Cameroon",
          "Cabo Verde",
          "Chile",
          "Costa Rica",
          "Cuba",
          "Benin",
          "Dominican Republic",
          "Ecuador",
          "El Salvador",
          "Djibouti",
          "Ghana",
          "Guatemala",
          "Iraq",
          "Cote d'Ivoire",
          "Kazakhstan",
          "Jordan",
          "Kenya",
          "Liberia",
          "Malawi",
          "Mali",
          "Mexico",
          "Mongolia",
          "Mozambique",
          "Nicaragua",
          "Niger",
          "Nigeria",
          "Panama",
          "Paraguay",
          "Peru",
          "Zimbabwe",
          "Senegal",
          "South Africa",
          "Togo",
          "Oman",
          "Uganda",
          "Burkina Faso",
          "Ethiopia",
          "Sudan"
         ],
         "locations": [
          "AFG",
          "ARG",
          "BRA",
          "BDI",
          "CMR",
          null,
          "CHL",
          "CRI",
          "CUB",
          "BEN",
          "DOM",
          "ECU",
          "SLV",
          "DJI",
          "GHA",
          "GTM",
          "IRQ",
          "CIV",
          null,
          "JOR",
          "KEN",
          "LBR",
          "MWI",
          "MLI",
          "MEX",
          "MNG",
          "MOZ",
          "NIC",
          "NER",
          "NGA",
          "PAN",
          "PRY",
          "PER",
          "ZWE",
          "SEN",
          "ZAF",
          "TGO",
          "OMN",
          "UGA",
          "BFA",
          "ETH",
          "SDN"
         ],
         "name": "All recommended",
         "showlegend": true,
         "showscale": false,
         "type": "choropleth",
         "z": [
          1,
          1,
          1,
          1,
          1,
          1,
          1,
          1,
          1,
          1,
          1,
          1,
          1,
          1,
          1,
          1,
          1,
          1,
          1,
          1,
          1,
          1,
          1,
          1,
          1,
          1,
          1,
          1,
          1,
          1,
          1,
          1,
          1,
          1,
          1,
          1,
          1,
          1,
          1,
          1,
          1,
          1
         ]
        },
        {
         "colorscale": [
          [
           0,
           "#00cc96"
          ],
          [
           1,
           "#00cc96"
          ]
         ],
         "geo": "geo",
         "hovertemplate": "<b>%{hovertext}</b><br><br>recommendation=None<br>iso_alpha=%{location}<extra></extra>",
         "hovertext": [
          "Antigua and Barbuda",
          "Bahrain",
          "Barbados",
          "Bangladesh",
          "Belize",
          "Dominica",
          "Grenada",
          "Guinea",
          "Guyana",
          "Honduras",
          "Indonesia",
          "Jamaica",
          "Kuwait",
          "Morocco",
          "Nepal",
          "Qatar",
          "Saint Kitts and Nevis",
          "Saint Lucia",
          "Saint Vincent and the Grenadines",
          "Saudi Arabia",
          "Sierra Leone",
          "Suriname",
          "Turkmenistan",
          "Trinidad and Tobago",
          "United Arab Emirates",
          "Yemen",
          "Zambia"
         ],
         "locations": [
          null,
          "BHR",
          null,
          "BGD",
          null,
          null,
          null,
          "GIN",
          null,
          "HND",
          "IDN",
          "JAM",
          "KWT",
          "MAR",
          "NPL",
          null,
          null,
          null,
          null,
          "SAU",
          "SLE",
          null,
          null,
          "TTO",
          null,
          null,
          "ZMB"
         ],
         "name": "None",
         "showlegend": true,
         "showscale": false,
         "type": "choropleth",
         "z": [
          1,
          1,
          1,
          1,
          1,
          1,
          1,
          1,
          1,
          1,
          1,
          1,
          1,
          1,
          1,
          1,
          1,
          1,
          1,
          1,
          1,
          1,
          1,
          1,
          1,
          1,
          1
         ]
        },
        {
         "colorscale": [
          [
           0,
           "#ab63fa"
          ],
          [
           1,
           "#ab63fa"
          ]
         ],
         "geo": "geo",
         "hovertemplate": "<b>%{hovertext}</b><br><br>recommendation=Both<br>iso_alpha=%{location}<extra></extra>",
         "hovertext": [
          "Solomon Islands",
          "Canada",
          "Colombia",
          "Fiji",
          "Kiribati",
          "India",
          "Philippines",
          "Uruguay"
         ],
         "locations": [
          null,
          "CAN",
          "COL",
          null,
          null,
          "IND",
          "PHL",
          "URY"
         ],
         "name": "Both",
         "showlegend": true,
         "showscale": false,
         "type": "choropleth",
         "z": [
          1,
          1,
          1,
          1,
          1,
          1,
          1,
          1
         ]
        }
       ],
       "layout": {
        "geo": {
         "center": {},
         "countrycolor": "RebeccaPurple",
         "domain": {
          "x": [
           0,
           1
          ],
          "y": [
           0,
           1
          ]
         },
         "resolution": 50,
         "showcountries": true,
         "visible": false
        },
        "height": 300,
        "legend": {
         "title": {
          "text": "recommendation"
         },
         "tracegroupgap": 0
        },
        "margin": {
         "b": 0,
         "l": 0,
         "r": 0,
         "t": 0
        },
        "template": {
         "data": {
          "bar": [
           {
            "error_x": {
             "color": "#2a3f5f"
            },
            "error_y": {
             "color": "#2a3f5f"
            },
            "marker": {
             "line": {
              "color": "#E5ECF6",
              "width": 0.5
             }
            },
            "type": "bar"
           }
          ],
          "barpolar": [
           {
            "marker": {
             "line": {
              "color": "#E5ECF6",
              "width": 0.5
             }
            },
            "type": "barpolar"
           }
          ],
          "carpet": [
           {
            "aaxis": {
             "endlinecolor": "#2a3f5f",
             "gridcolor": "white",
             "linecolor": "white",
             "minorgridcolor": "white",
             "startlinecolor": "#2a3f5f"
            },
            "baxis": {
             "endlinecolor": "#2a3f5f",
             "gridcolor": "white",
             "linecolor": "white",
             "minorgridcolor": "white",
             "startlinecolor": "#2a3f5f"
            },
            "type": "carpet"
           }
          ],
          "choropleth": [
           {
            "colorbar": {
             "outlinewidth": 0,
             "ticks": ""
            },
            "type": "choropleth"
           }
          ],
          "contour": [
           {
            "colorbar": {
             "outlinewidth": 0,
             "ticks": ""
            },
            "colorscale": [
             [
              0,
              "#0d0887"
             ],
             [
              0.1111111111111111,
              "#46039f"
             ],
             [
              0.2222222222222222,
              "#7201a8"
             ],
             [
              0.3333333333333333,
              "#9c179e"
             ],
             [
              0.4444444444444444,
              "#bd3786"
             ],
             [
              0.5555555555555556,
              "#d8576b"
             ],
             [
              0.6666666666666666,
              "#ed7953"
             ],
             [
              0.7777777777777778,
              "#fb9f3a"
             ],
             [
              0.8888888888888888,
              "#fdca26"
             ],
             [
              1,
              "#f0f921"
             ]
            ],
            "type": "contour"
           }
          ],
          "contourcarpet": [
           {
            "colorbar": {
             "outlinewidth": 0,
             "ticks": ""
            },
            "type": "contourcarpet"
           }
          ],
          "heatmap": [
           {
            "colorbar": {
             "outlinewidth": 0,
             "ticks": ""
            },
            "colorscale": [
             [
              0,
              "#0d0887"
             ],
             [
              0.1111111111111111,
              "#46039f"
             ],
             [
              0.2222222222222222,
              "#7201a8"
             ],
             [
              0.3333333333333333,
              "#9c179e"
             ],
             [
              0.4444444444444444,
              "#bd3786"
             ],
             [
              0.5555555555555556,
              "#d8576b"
             ],
             [
              0.6666666666666666,
              "#ed7953"
             ],
             [
              0.7777777777777778,
              "#fb9f3a"
             ],
             [
              0.8888888888888888,
              "#fdca26"
             ],
             [
              1,
              "#f0f921"
             ]
            ],
            "type": "heatmap"
           }
          ],
          "heatmapgl": [
           {
            "colorbar": {
             "outlinewidth": 0,
             "ticks": ""
            },
            "colorscale": [
             [
              0,
              "#0d0887"
             ],
             [
              0.1111111111111111,
              "#46039f"
             ],
             [
              0.2222222222222222,
              "#7201a8"
             ],
             [
              0.3333333333333333,
              "#9c179e"
             ],
             [
              0.4444444444444444,
              "#bd3786"
             ],
             [
              0.5555555555555556,
              "#d8576b"
             ],
             [
              0.6666666666666666,
              "#ed7953"
             ],
             [
              0.7777777777777778,
              "#fb9f3a"
             ],
             [
              0.8888888888888888,
              "#fdca26"
             ],
             [
              1,
              "#f0f921"
             ]
            ],
            "type": "heatmapgl"
           }
          ],
          "histogram": [
           {
            "marker": {
             "colorbar": {
              "outlinewidth": 0,
              "ticks": ""
             }
            },
            "type": "histogram"
           }
          ],
          "histogram2d": [
           {
            "colorbar": {
             "outlinewidth": 0,
             "ticks": ""
            },
            "colorscale": [
             [
              0,
              "#0d0887"
             ],
             [
              0.1111111111111111,
              "#46039f"
             ],
             [
              0.2222222222222222,
              "#7201a8"
             ],
             [
              0.3333333333333333,
              "#9c179e"
             ],
             [
              0.4444444444444444,
              "#bd3786"
             ],
             [
              0.5555555555555556,
              "#d8576b"
             ],
             [
              0.6666666666666666,
              "#ed7953"
             ],
             [
              0.7777777777777778,
              "#fb9f3a"
             ],
             [
              0.8888888888888888,
              "#fdca26"
             ],
             [
              1,
              "#f0f921"
             ]
            ],
            "type": "histogram2d"
           }
          ],
          "histogram2dcontour": [
           {
            "colorbar": {
             "outlinewidth": 0,
             "ticks": ""
            },
            "colorscale": [
             [
              0,
              "#0d0887"
             ],
             [
              0.1111111111111111,
              "#46039f"
             ],
             [
              0.2222222222222222,
              "#7201a8"
             ],
             [
              0.3333333333333333,
              "#9c179e"
             ],
             [
              0.4444444444444444,
              "#bd3786"
             ],
             [
              0.5555555555555556,
              "#d8576b"
             ],
             [
              0.6666666666666666,
              "#ed7953"
             ],
             [
              0.7777777777777778,
              "#fb9f3a"
             ],
             [
              0.8888888888888888,
              "#fdca26"
             ],
             [
              1,
              "#f0f921"
             ]
            ],
            "type": "histogram2dcontour"
           }
          ],
          "mesh3d": [
           {
            "colorbar": {
             "outlinewidth": 0,
             "ticks": ""
            },
            "type": "mesh3d"
           }
          ],
          "parcoords": [
           {
            "line": {
             "colorbar": {
              "outlinewidth": 0,
              "ticks": ""
             }
            },
            "type": "parcoords"
           }
          ],
          "pie": [
           {
            "automargin": true,
            "type": "pie"
           }
          ],
          "scatter": [
           {
            "marker": {
             "colorbar": {
              "outlinewidth": 0,
              "ticks": ""
             }
            },
            "type": "scatter"
           }
          ],
          "scatter3d": [
           {
            "line": {
             "colorbar": {
              "outlinewidth": 0,
              "ticks": ""
             }
            },
            "marker": {
             "colorbar": {
              "outlinewidth": 0,
              "ticks": ""
             }
            },
            "type": "scatter3d"
           }
          ],
          "scattercarpet": [
           {
            "marker": {
             "colorbar": {
              "outlinewidth": 0,
              "ticks": ""
             }
            },
            "type": "scattercarpet"
           }
          ],
          "scattergeo": [
           {
            "marker": {
             "colorbar": {
              "outlinewidth": 0,
              "ticks": ""
             }
            },
            "type": "scattergeo"
           }
          ],
          "scattergl": [
           {
            "marker": {
             "colorbar": {
              "outlinewidth": 0,
              "ticks": ""
             }
            },
            "type": "scattergl"
           }
          ],
          "scattermapbox": [
           {
            "marker": {
             "colorbar": {
              "outlinewidth": 0,
              "ticks": ""
             }
            },
            "type": "scattermapbox"
           }
          ],
          "scatterpolar": [
           {
            "marker": {
             "colorbar": {
              "outlinewidth": 0,
              "ticks": ""
             }
            },
            "type": "scatterpolar"
           }
          ],
          "scatterpolargl": [
           {
            "marker": {
             "colorbar": {
              "outlinewidth": 0,
              "ticks": ""
             }
            },
            "type": "scatterpolargl"
           }
          ],
          "scatterternary": [
           {
            "marker": {
             "colorbar": {
              "outlinewidth": 0,
              "ticks": ""
             }
            },
            "type": "scatterternary"
           }
          ],
          "surface": [
           {
            "colorbar": {
             "outlinewidth": 0,
             "ticks": ""
            },
            "colorscale": [
             [
              0,
              "#0d0887"
             ],
             [
              0.1111111111111111,
              "#46039f"
             ],
             [
              0.2222222222222222,
              "#7201a8"
             ],
             [
              0.3333333333333333,
              "#9c179e"
             ],
             [
              0.4444444444444444,
              "#bd3786"
             ],
             [
              0.5555555555555556,
              "#d8576b"
             ],
             [
              0.6666666666666666,
              "#ed7953"
             ],
             [
              0.7777777777777778,
              "#fb9f3a"
             ],
             [
              0.8888888888888888,
              "#fdca26"
             ],
             [
              1,
              "#f0f921"
             ]
            ],
            "type": "surface"
           }
          ],
          "table": [
           {
            "cells": {
             "fill": {
              "color": "#EBF0F8"
             },
             "line": {
              "color": "white"
             }
            },
            "header": {
             "fill": {
              "color": "#C8D4E3"
             },
             "line": {
              "color": "white"
             }
            },
            "type": "table"
           }
          ]
         },
         "layout": {
          "annotationdefaults": {
           "arrowcolor": "#2a3f5f",
           "arrowhead": 0,
           "arrowwidth": 1
          },
          "coloraxis": {
           "colorbar": {
            "outlinewidth": 0,
            "ticks": ""
           }
          },
          "colorscale": {
           "diverging": [
            [
             0,
             "#8e0152"
            ],
            [
             0.1,
             "#c51b7d"
            ],
            [
             0.2,
             "#de77ae"
            ],
            [
             0.3,
             "#f1b6da"
            ],
            [
             0.4,
             "#fde0ef"
            ],
            [
             0.5,
             "#f7f7f7"
            ],
            [
             0.6,
             "#e6f5d0"
            ],
            [
             0.7,
             "#b8e186"
            ],
            [
             0.8,
             "#7fbc41"
            ],
            [
             0.9,
             "#4d9221"
            ],
            [
             1,
             "#276419"
            ]
           ],
           "sequential": [
            [
             0,
             "#0d0887"
            ],
            [
             0.1111111111111111,
             "#46039f"
            ],
            [
             0.2222222222222222,
             "#7201a8"
            ],
            [
             0.3333333333333333,
             "#9c179e"
            ],
            [
             0.4444444444444444,
             "#bd3786"
            ],
            [
             0.5555555555555556,
             "#d8576b"
            ],
            [
             0.6666666666666666,
             "#ed7953"
            ],
            [
             0.7777777777777778,
             "#fb9f3a"
            ],
            [
             0.8888888888888888,
             "#fdca26"
            ],
            [
             1,
             "#f0f921"
            ]
           ],
           "sequentialminus": [
            [
             0,
             "#0d0887"
            ],
            [
             0.1111111111111111,
             "#46039f"
            ],
            [
             0.2222222222222222,
             "#7201a8"
            ],
            [
             0.3333333333333333,
             "#9c179e"
            ],
            [
             0.4444444444444444,
             "#bd3786"
            ],
            [
             0.5555555555555556,
             "#d8576b"
            ],
            [
             0.6666666666666666,
             "#ed7953"
            ],
            [
             0.7777777777777778,
             "#fb9f3a"
            ],
            [
             0.8888888888888888,
             "#fdca26"
            ],
            [
             1,
             "#f0f921"
            ]
           ]
          },
          "colorway": [
           "#636efa",
           "#EF553B",
           "#00cc96",
           "#ab63fa",
           "#FFA15A",
           "#19d3f3",
           "#FF6692",
           "#B6E880",
           "#FF97FF",
           "#FECB52"
          ],
          "font": {
           "color": "#2a3f5f"
          },
          "geo": {
           "bgcolor": "white",
           "lakecolor": "white",
           "landcolor": "#E5ECF6",
           "showlakes": true,
           "showland": true,
           "subunitcolor": "white"
          },
          "hoverlabel": {
           "align": "left"
          },
          "hovermode": "closest",
          "mapbox": {
           "style": "light"
          },
          "paper_bgcolor": "white",
          "plot_bgcolor": "#E5ECF6",
          "polar": {
           "angularaxis": {
            "gridcolor": "white",
            "linecolor": "white",
            "ticks": ""
           },
           "bgcolor": "#E5ECF6",
           "radialaxis": {
            "gridcolor": "white",
            "linecolor": "white",
            "ticks": ""
           }
          },
          "scene": {
           "xaxis": {
            "backgroundcolor": "#E5ECF6",
            "gridcolor": "white",
            "gridwidth": 2,
            "linecolor": "white",
            "showbackground": true,
            "ticks": "",
            "zerolinecolor": "white"
           },
           "yaxis": {
            "backgroundcolor": "#E5ECF6",
            "gridcolor": "white",
            "gridwidth": 2,
            "linecolor": "white",
            "showbackground": true,
            "ticks": "",
            "zerolinecolor": "white"
           },
           "zaxis": {
            "backgroundcolor": "#E5ECF6",
            "gridcolor": "white",
            "gridwidth": 2,
            "linecolor": "white",
            "showbackground": true,
            "ticks": "",
            "zerolinecolor": "white"
           }
          },
          "shapedefaults": {
           "line": {
            "color": "#2a3f5f"
           }
          },
          "ternary": {
           "aaxis": {
            "gridcolor": "white",
            "linecolor": "white",
            "ticks": ""
           },
           "baxis": {
            "gridcolor": "white",
            "linecolor": "white",
            "ticks": ""
           },
           "bgcolor": "#E5ECF6",
           "caxis": {
            "gridcolor": "white",
            "linecolor": "white",
            "ticks": ""
           }
          },
          "title": {
           "x": 0.05
          },
          "xaxis": {
           "automargin": true,
           "gridcolor": "white",
           "linecolor": "white",
           "ticks": "",
           "title": {
            "standoff": 15
           },
           "zerolinecolor": "white",
           "zerolinewidth": 2
          },
          "yaxis": {
           "automargin": true,
           "gridcolor": "white",
           "linecolor": "white",
           "ticks": "",
           "title": {
            "standoff": 15
           },
           "zerolinecolor": "white",
           "zerolinewidth": 2
          }
         }
        }
       }
      }
     },
     "metadata": {}
    }
   ],
   "source": [
    "import plotly.graph_objects as go\n",
    "\n",
    "df2 = px.data.election()\n",
    "gapminder = px.data.gapminder().query(\"year==2007\")\n",
    "\n",
    "dff=pd.merge(merged, gapminder, how='left', left_on='country_name', right_on='country')\n",
    "\n",
    "\n",
    "fig = px.choropleth(dff, locations=\"iso_alpha\",\n",
    "                    color=\"recommendation\", \n",
    "                    hover_name=\"COUNTRY\", # column to add to hover information\n",
    "                    color_continuous_scale=px.colors.sequential.Plasma)\n",
    "fig.update_geos(\n",
    "    visible=False, resolution=50,\n",
    "    showcountries=True, countrycolor=\"RebeccaPurple\"\n",
    ")\n",
    "fig.update_layout(height=300, margin={\"r\":0,\"t\":0,\"l\":0,\"b\":0})\n",
    "fig.show()\n"
   ]
  },
  {
   "cell_type": "code",
   "execution_count": null,
   "metadata": {},
   "outputs": [],
   "source": [
    "import plotly.graph_objects as go\n",
    "import pandas as pd\n",
    "\n",
    "df = pd.read_csv('https://raw.githubusercontent.com/plotly/datasets/master/2014_world_gdp_with_codes.csv')\n",
    "\n",
    "fig = go.Figure(data=go.Choropleth(\n",
    "    locations = merged['CODE'],\n",
    "    z = df['GDP (BILLIONS)'],\n",
    "    text = df['COUNTRY'],\n",
    "    colorscale = 'Blues',\n",
    "    autocolorscale=False,\n",
    "    reversescale=True,\n",
    "    marker_line_color='darkgray',\n",
    "    marker_line_width=0.5,\n",
    "    colorbar_tickprefix = '$',\n",
    "    colorbar_title = 'GDP<br>Billions US$',\n",
    "))\n",
    "\n",
    "fig.update_layout(\n",
    "    title_text='2014 Global GDP',\n",
    "    geo=dict(\n",
    "        showframe=False,\n",
    "        showcoastlines=False,\n",
    "        projection_type='equirectangular'\n",
    "    ),\n",
    "    annotations = [dict(\n",
    "        x=0.55,\n",
    "        y=0.1,\n",
    "        xref='paper',\n",
    "        yref='paper',\n",
    "        text='Source: <a href=\"https://www.cia.gov/library/publications/the-world-factbook/fields/2195.html\">\\\n",
    "            CIA World Factbook</a>',\n",
    "        showarrow = False\n",
    "    )]\n",
    ")\n",
    "\n",
    "fig.show()"
   ]
  },
  {
   "cell_type": "code",
   "execution_count": 89,
   "metadata": {},
   "outputs": [
    {
     "output_type": "error",
     "ename": "TypeError",
     "evalue": "&#39;Country&#39; object is not subscriptable",
     "traceback": [
      "\u001b[0;31m---------------------------------------------------------------------------\u001b[0m",
      "\u001b[0;31mTypeError\u001b[0m                                 Traceback (most recent call last)",
      "\u001b[0;32m&lt;ipython-input-89-6a3e1ea74432&gt;\u001b[0m in \u001b[0;36m&lt;module&gt;\u001b[0;34m\u001b[0m\n\u001b[1;32m      3\u001b[0m \u001b[0;32mfor\u001b[0m \u001b[0md\u001b[0m \u001b[0;32min\u001b[0m \u001b[0mdata\u001b[0m\u001b[0;34m:\u001b[0m\u001b[0;34m\u001b[0m\u001b[0;34m\u001b[0m\u001b[0m\n\u001b[1;32m      4\u001b[0m     \u001b[0md\u001b[0m\u001b[0;34m.\u001b[0m\u001b[0mname\u001b[0m \u001b[0;34m=\u001b[0m \u001b[0mcountry_dict\u001b[0m\u001b[0;34m[\u001b[0m\u001b[0md\u001b[0m\u001b[0;34m.\u001b[0m\u001b[0mcode\u001b[0m\u001b[0;34m]\u001b[0m\u001b[0;34m\u001b[0m\u001b[0;34m\u001b[0m\u001b[0m\n\u001b[0;32m----&gt; 5\u001b[0;31m \u001b[0md\u001b[0m\u001b[0;34m[\u001b[0m\u001b[0;36m1\u001b[0m\u001b[0;34m]\u001b[0m\u001b[0;34m\u001b[0m\u001b[0;34m\u001b[0m\u001b[0m\n\u001b[0m",
      "\u001b[0;31mTypeError\u001b[0m: &#39;Country&#39; object is not subscriptable"
     ]
    }
   ],
   "source": [
    "import plotly.express as px\n",
    "\n",
    "for d in data:\n",
    "    d.name = country_dict[d.code]\n"
   ]
  },
  {
   "cell_type": "code",
   "execution_count": 91,
   "metadata": {},
   "outputs": [
    {
     "output_type": "execute_result",
     "data": {
      "text/plain": "          COUNTRY  GDP (BILLIONS) CODE\n0     Afghanistan           21.71  AFG\n1         Albania           13.40  ALB\n2         Algeria          227.80  DZA\n3  American Samoa            0.75  ASM\n4         Andorra            4.80  AND",
      "text/html": "<div>\n<style scoped>\n    .dataframe tbody tr th:only-of-type {\n        vertical-align: middle;\n    }\n\n    .dataframe tbody tr th {\n        vertical-align: top;\n    }\n\n    .dataframe thead th {\n        text-align: right;\n    }\n</style>\n<table border=\"1\" class=\"dataframe\">\n  <thead>\n    <tr style=\"text-align: right;\">\n      <th></th>\n      <th>COUNTRY</th>\n      <th>GDP (BILLIONS)</th>\n      <th>CODE</th>\n    </tr>\n  </thead>\n  <tbody>\n    <tr>\n      <th>0</th>\n      <td>Afghanistan</td>\n      <td>21.71</td>\n      <td>AFG</td>\n    </tr>\n    <tr>\n      <th>1</th>\n      <td>Albania</td>\n      <td>13.40</td>\n      <td>ALB</td>\n    </tr>\n    <tr>\n      <th>2</th>\n      <td>Algeria</td>\n      <td>227.80</td>\n      <td>DZA</td>\n    </tr>\n    <tr>\n      <th>3</th>\n      <td>American Samoa</td>\n      <td>0.75</td>\n      <td>ASM</td>\n    </tr>\n    <tr>\n      <th>4</th>\n      <td>Andorra</td>\n      <td>4.80</td>\n      <td>AND</td>\n    </tr>\n  </tbody>\n</table>\n</div>"
     },
     "metadata": {},
     "execution_count": 91
    }
   ],
   "source": [
    "df = pd.read_csv('https://raw.githubusercontent.com/plotly/datasets/master/2014_world_gdp_with_codes.csv')\n",
    "df.head()"
   ]
  }
 ]
}
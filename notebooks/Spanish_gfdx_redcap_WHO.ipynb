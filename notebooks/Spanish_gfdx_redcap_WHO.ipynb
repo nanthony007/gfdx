{
  "nbformat": 4,
  "nbformat_minor": 0,
  "metadata": {
    "colab": {
      "name": "Spanish-gfdx-redcap-WHO.ipynb",
      "provenance": [],
      "collapsed_sections": [],
      "toc_visible": true
    },
    "kernelspec": {
      "name": "python3",
      "display_name": "Python 3"
    },
    "widgets": {
      "application/vnd.jupyter.widget-state+json": {
        "27de83daeb014fdea9b90cfedca44423": {
          "model_module": "@jupyter-widgets/controls",
          "model_name": "HBoxModel",
          "state": {
            "_view_name": "HBoxView",
            "_dom_classes": [],
            "_model_name": "HBoxModel",
            "_view_module": "@jupyter-widgets/controls",
            "_model_module_version": "1.5.0",
            "_view_count": null,
            "_view_module_version": "1.5.0",
            "box_style": "",
            "layout": "IPY_MODEL_e123905dd9214c11a2f44f037c1d2f97",
            "_model_module": "@jupyter-widgets/controls",
            "children": [
              "IPY_MODEL_3a465662dcd94636962cf07bff3f5730",
              "IPY_MODEL_60e404348b2d4640801097b284f1ff2f"
            ]
          }
        },
        "e123905dd9214c11a2f44f037c1d2f97": {
          "model_module": "@jupyter-widgets/base",
          "model_name": "LayoutModel",
          "state": {
            "_view_name": "LayoutView",
            "grid_template_rows": null,
            "right": null,
            "justify_content": null,
            "_view_module": "@jupyter-widgets/base",
            "overflow": null,
            "_model_module_version": "1.2.0",
            "_view_count": null,
            "flex_flow": null,
            "width": null,
            "min_width": null,
            "border": null,
            "align_items": null,
            "bottom": null,
            "_model_module": "@jupyter-widgets/base",
            "top": null,
            "grid_column": null,
            "overflow_y": null,
            "overflow_x": null,
            "grid_auto_flow": null,
            "grid_area": null,
            "grid_template_columns": null,
            "flex": null,
            "_model_name": "LayoutModel",
            "justify_items": null,
            "grid_row": null,
            "max_height": null,
            "align_content": null,
            "visibility": null,
            "align_self": null,
            "height": null,
            "min_height": null,
            "padding": null,
            "grid_auto_rows": null,
            "grid_gap": null,
            "max_width": null,
            "order": null,
            "_view_module_version": "1.2.0",
            "grid_template_areas": null,
            "object_position": null,
            "object_fit": null,
            "grid_auto_columns": null,
            "margin": null,
            "display": null,
            "left": null
          }
        },
        "3a465662dcd94636962cf07bff3f5730": {
          "model_module": "@jupyter-widgets/controls",
          "model_name": "FloatProgressModel",
          "state": {
            "_view_name": "ProgressView",
            "style": "IPY_MODEL_640c27f661fe467abfd3689c386e0ed7",
            "_dom_classes": [],
            "description": "",
            "_model_name": "FloatProgressModel",
            "bar_style": "success",
            "max": 1,
            "_view_module": "@jupyter-widgets/controls",
            "_model_module_version": "1.5.0",
            "value": 1,
            "_view_count": null,
            "_view_module_version": "1.5.0",
            "orientation": "horizontal",
            "min": 0,
            "description_tooltip": null,
            "_model_module": "@jupyter-widgets/controls",
            "layout": "IPY_MODEL_f377f927a7544ecdaac0ac0dffbd2866"
          }
        },
        "60e404348b2d4640801097b284f1ff2f": {
          "model_module": "@jupyter-widgets/controls",
          "model_name": "HTMLModel",
          "state": {
            "_view_name": "HTMLView",
            "style": "IPY_MODEL_40bb9d4ea2e54cc88a59805614a476d2",
            "_dom_classes": [],
            "description": "",
            "_model_name": "HTMLModel",
            "placeholder": "​",
            "_view_module": "@jupyter-widgets/controls",
            "_model_module_version": "1.5.0",
            "value": " 1234/? [03:26&lt;00:00,  5.98it/s]",
            "_view_count": null,
            "_view_module_version": "1.5.0",
            "description_tooltip": null,
            "_model_module": "@jupyter-widgets/controls",
            "layout": "IPY_MODEL_c0c034c2eda743d99d2228aa5fb471c9"
          }
        },
        "640c27f661fe467abfd3689c386e0ed7": {
          "model_module": "@jupyter-widgets/controls",
          "model_name": "ProgressStyleModel",
          "state": {
            "_view_name": "StyleView",
            "_model_name": "ProgressStyleModel",
            "description_width": "initial",
            "_view_module": "@jupyter-widgets/base",
            "_model_module_version": "1.5.0",
            "_view_count": null,
            "_view_module_version": "1.2.0",
            "bar_color": null,
            "_model_module": "@jupyter-widgets/controls"
          }
        },
        "f377f927a7544ecdaac0ac0dffbd2866": {
          "model_module": "@jupyter-widgets/base",
          "model_name": "LayoutModel",
          "state": {
            "_view_name": "LayoutView",
            "grid_template_rows": null,
            "right": null,
            "justify_content": null,
            "_view_module": "@jupyter-widgets/base",
            "overflow": null,
            "_model_module_version": "1.2.0",
            "_view_count": null,
            "flex_flow": null,
            "width": null,
            "min_width": null,
            "border": null,
            "align_items": null,
            "bottom": null,
            "_model_module": "@jupyter-widgets/base",
            "top": null,
            "grid_column": null,
            "overflow_y": null,
            "overflow_x": null,
            "grid_auto_flow": null,
            "grid_area": null,
            "grid_template_columns": null,
            "flex": null,
            "_model_name": "LayoutModel",
            "justify_items": null,
            "grid_row": null,
            "max_height": null,
            "align_content": null,
            "visibility": null,
            "align_self": null,
            "height": null,
            "min_height": null,
            "padding": null,
            "grid_auto_rows": null,
            "grid_gap": null,
            "max_width": null,
            "order": null,
            "_view_module_version": "1.2.0",
            "grid_template_areas": null,
            "object_position": null,
            "object_fit": null,
            "grid_auto_columns": null,
            "margin": null,
            "display": null,
            "left": null
          }
        },
        "40bb9d4ea2e54cc88a59805614a476d2": {
          "model_module": "@jupyter-widgets/controls",
          "model_name": "DescriptionStyleModel",
          "state": {
            "_view_name": "StyleView",
            "_model_name": "DescriptionStyleModel",
            "description_width": "",
            "_view_module": "@jupyter-widgets/base",
            "_model_module_version": "1.5.0",
            "_view_count": null,
            "_view_module_version": "1.2.0",
            "_model_module": "@jupyter-widgets/controls"
          }
        },
        "c0c034c2eda743d99d2228aa5fb471c9": {
          "model_module": "@jupyter-widgets/base",
          "model_name": "LayoutModel",
          "state": {
            "_view_name": "LayoutView",
            "grid_template_rows": null,
            "right": null,
            "justify_content": null,
            "_view_module": "@jupyter-widgets/base",
            "overflow": null,
            "_model_module_version": "1.2.0",
            "_view_count": null,
            "flex_flow": null,
            "width": null,
            "min_width": null,
            "border": null,
            "align_items": null,
            "bottom": null,
            "_model_module": "@jupyter-widgets/base",
            "top": null,
            "grid_column": null,
            "overflow_y": null,
            "overflow_x": null,
            "grid_auto_flow": null,
            "grid_area": null,
            "grid_template_columns": null,
            "flex": null,
            "_model_name": "LayoutModel",
            "justify_items": null,
            "grid_row": null,
            "max_height": null,
            "align_content": null,
            "visibility": null,
            "align_self": null,
            "height": null,
            "min_height": null,
            "padding": null,
            "grid_auto_rows": null,
            "grid_gap": null,
            "max_width": null,
            "order": null,
            "_view_module_version": "1.2.0",
            "grid_template_areas": null,
            "object_position": null,
            "object_fit": null,
            "grid_auto_columns": null,
            "margin": null,
            "display": null,
            "left": null
          }
        }
      }
    }
  },
  "cells": [
    {
      "cell_type": "markdown",
      "metadata": {
        "id": "m4cl0LWoLnJm"
      },
      "source": [
        "## GFDX notebook: WHO Recommendation Analysis SPANISH"
      ]
    },
    {
      "cell_type": "code",
      "metadata": {
        "id": "D35O5gHOM2ij",
        "colab": {
          "base_uri": "https://localhost:8080/"
        },
        "outputId": "8fbad3e4-a7cc-442e-f32c-e1a2ff450ce7"
      },
      "source": [
        "# Install package to allow import from REDCap API\n",
        "from redcap import Project\n",
        "import pandas as pd\n",
        "import numpy as np\n",
        "import os\n",
        "from tqdm.notebook import tqdm  # progress bar\n",
        "\n",
        "# Connecting to GFDx Redcap API\n",
        "api_key = os.environ.get(\"APIKEY\")\n",
        "\n",
        "URL = 'https://redcap.emory.edu/api/'\n",
        "project = Project(URL, api_key)"
      ],
      "execution_count": null,
      "outputs": [
        {
          "output_type": "stream",
          "text": [
            "Collecting PyCap\n",
            "  Downloading https://files.pythonhosted.org/packages/80/24/34d5ddf1220494dc0b6161940b4d1158ea6fa4c68a699af8d1901f74a6c4/PyCap-1.1.2-py3-none-any.whl\n",
            "Collecting semantic-version>=2.3.1\n",
            "  Downloading https://files.pythonhosted.org/packages/a5/15/00ef3b7888a10363b7c402350eda3acf395ff05bebae312d1296e528516a/semantic_version-2.8.5-py2.py3-none-any.whl\n",
            "Requirement already satisfied: requests>=1.0.0 in /usr/local/lib/python3.6/dist-packages (from PyCap) (2.23.0)\n",
            "Requirement already satisfied: chardet<4,>=3.0.2 in /usr/local/lib/python3.6/dist-packages (from requests>=1.0.0->PyCap) (3.0.4)\n",
            "Requirement already satisfied: certifi>=2017.4.17 in /usr/local/lib/python3.6/dist-packages (from requests>=1.0.0->PyCap) (2020.11.8)\n",
            "Requirement already satisfied: urllib3!=1.25.0,!=1.25.1,<1.26,>=1.21.1 in /usr/local/lib/python3.6/dist-packages (from requests>=1.0.0->PyCap) (1.24.3)\n",
            "Requirement already satisfied: idna<3,>=2.5 in /usr/local/lib/python3.6/dist-packages (from requests>=1.0.0->PyCap) (2.10)\n",
            "Installing collected packages: semantic-version, PyCap\n",
            "Successfully installed PyCap-1.1.2 semantic-version-2.8.5\n"
          ],
          "name": "stdout"
        }
      ]
    },
    {
      "cell_type": "code",
      "metadata": {
        "id": "HUYCGd4wRTdw"
      },
      "source": [
        "# Pulls out variables of interest from REDCap\n",
        "fields_of_interest = ['country_code', 'standard_nutrient', 'nutrient_level', 'nutrient_compound', 'latest_intake_api', 'food_status_api']\n",
        "subset = project.export_records(fields=fields_of_interest, format='df')"
      ],
      "execution_count": null,
      "outputs": []
    },
    {
      "cell_type": "code",
      "metadata": {
        "id": "CUN1XZoTNHTh"
      },
      "source": [
        "# Reset index\n",
        "df = subset.copy()\n",
        "df.reset_index(inplace=True)"
      ],
      "execution_count": null,
      "outputs": []
    },
    {
      "cell_type": "code",
      "metadata": {
        "id": "FQrt6h3jgvjs"
      },
      "source": [
        "df = df[df.country_code != 999.0]"
      ],
      "execution_count": null,
      "outputs": []
    },
    {
      "cell_type": "code",
      "metadata": {
        "id": "ORy0cWCZNM_o",
        "colab": {
          "base_uri": "https://localhost:8080/"
        },
        "outputId": "f8b87ca7-715a-4010-a5a3-d877df79bd80"
      },
      "source": [
        "# Pipeline to first dataset\n",
        "food_list = ['maize_flour_arm_2', 'wheat_flour_arm_2', 'rice_arm_2', 'salt_arm_2', 'oil_arm_2']\n",
        "df1 = df[df.redcap_repeat_instrument.eq('nutrients_compounds')]\n",
        "df2 = df1[df1.redcap_event_name.isin(food_list)]\n",
        "df3 = df2[(df.food_status_api == 1) | (df.food_status_api == 2)]\n",
        "analysis = df3.copy()"
      ],
      "execution_count": null,
      "outputs": [
        {
          "output_type": "stream",
          "text": [
            "/usr/local/lib/python3.6/dist-packages/ipykernel_launcher.py:5: UserWarning: Boolean Series key will be reindexed to match DataFrame index.\n",
            "  \"\"\"\n"
          ],
          "name": "stderr"
        }
      ]
    },
    {
      "cell_type": "code",
      "metadata": {
        "id": "yAZokkiRcfNb"
      },
      "source": [
        "# For countries that do not have both wheat and maize flour mandatory fortification\n",
        "recommended_compounds_wheat = [4, 29, 38, 50, 55, 64, 86, 104, 105] \n",
        "recommended_compounds_maize = [4, 29, 38, 50, 55, 64, 86, 104, 105, 71, 72, 3, 81]\n",
        "recommended_compounds_salt = [33, 34] \n",
        "\n",
        "df_copy = analysis.copy()\n",
        "\n",
        "# Stating the WHO recommended compounds\n",
        "df_copy['who_compound'] = 'No hay recomendación de la OMS'\n",
        "\n",
        "for i, row in df_copy.iterrows():\n",
        "    if row.redcap_event_name == 'oil_arm_2' or row.redcap_event_name == 'rice_arm_2':\n",
        "        df_copy.loc[i, 'who_compound'] = 'No hay recomendación disponible de la OMS para este alimento'\n",
        "    # Salt\n",
        "    elif row.redcap_event_name == 'salt_arm_2' and row.standard_nutrient == 6:\n",
        "        df_copy.loc[i, 'who_compound'] = 'Yodato de potasio o yoduro de potasio'\n",
        "    # Maize\n",
        "    elif row.redcap_event_name == 'maize_flour_arm_2' and row.standard_nutrient == 1:\n",
        "        df_copy.loc[i, 'who_compound'] = 'Clorhidrato de piridoxina'\n",
        "    elif row.redcap_event_name == 'maize_flour_arm_2' and row.standard_nutrient == 8:\n",
        "        df_copy.loc[i, 'who_compound'] = 'Niacinamida'\n",
        "    elif row.redcap_event_name == 'maize_flour_arm_2' and row.standard_nutrient == 9:\n",
        "        df_copy.loc[i, 'who_compound'] = 'Riboflavina'\n",
        "    elif row.redcap_event_name == 'maize_flour_arm_2' and row.standard_nutrient == 11:\n",
        "        df_copy.loc[i, 'who_compound'] = 'Thiamine hydrochloride'\n",
        "    elif row.redcap_event_name == 'maize_flour_arm_2' and row.standard_nutrient == 2:\n",
        "        df_copy.loc[i, 'who_compound'] = 'Clorhidrato de tiamina'\n",
        "    elif row.redcap_event_name == 'maize_flour_arm_2' and row.standard_nutrient == 5:\n",
        "        df_copy.loc[i, 'who_compound'] = 'Ácido fólico'\n",
        "    elif row.redcap_event_name == 'maize_flour_arm_2' and row.standard_nutrient == 7:\n",
        "        df_copy.loc[i, 'who_compound'] = 'NaFeEDTA, sulfato ferroso, fumarato ferroso o hierro electrolítico'\n",
        "    elif row.redcap_event_name == 'maize_flour_arm_2' and row.standard_nutrient == 12:\n",
        "        df_copy.loc[i, 'who_compound'] = 'Palmitato de retinilo'\n",
        "    elif row.redcap_event_name == 'maize_flour_arm_2' and row.standard_nutrient == 15:\n",
        "        df_copy.loc[i, 'who_compound'] = 'Óxido de zinc o sulfato de zinc'\n",
        "    # Wheat\n",
        "    elif row.redcap_event_name == 'wheat_flour_arm_2' and row.standard_nutrient == 2:\n",
        "        df_copy.loc[i, 'who_compound'] = 'Clorhidrato de tiamina'\n",
        "    elif row.redcap_event_name == 'wheat_flour_arm_2' and row.standard_nutrient == 5:\n",
        "        df_copy.loc[i, 'who_compound'] = 'Ácido fólico'\n",
        "    elif row.redcap_event_name == 'wheat_flour_arm_2' and row.standard_nutrient == 7:\n",
        "        df_copy.loc[i, 'who_compound'] = 'NaFeEDTA, sulfato ferroso, fumarato ferroso o hierro electrolítico'\n",
        "    elif row.redcap_event_name == 'wheat_flour_arm_2' and row.standard_nutrient == 12:\n",
        "        df_copy.loc[i, 'who_compound'] = 'Palmitato de retinilo'\n",
        "    elif row.redcap_event_name == 'wheat_flour_arm_2' and row.standard_nutrient == 15:\n",
        "        df_copy.loc[i, 'who_compound'] = 'Óxido de zinc o sulfato de zinc'\n",
        "\n",
        "# Stating recommendations\n",
        "df_copy['compound_include'] = 'No recomendado por la OMS'\n",
        "\n",
        "for i, row in df_copy.iterrows():\n",
        "    if row.redcap_event_name == 'oil_arm_2' or row.redcap_event_name == 'rice_arm_2':\n",
        "        df_copy.loc[i, 'compound_include'] = 'No hay recomendación disponible de la OMS para este alimento'\n",
        "    elif row.nutrient_compound == 1:\n",
        "        df_copy.loc[i, 'compound_include'] = 'El compuesto no está especificado'\n",
        "    elif row.redcap_event_name == 'wheat_flour_arm_2':\n",
        "        if row.nutrient_compound in recommended_compounds_wheat:\n",
        "            df_copy.loc[i, 'compound_include'] = 'Recomendado por la OMS'\n",
        "    elif row.redcap_event_name == 'maize_flour_arm_2' and row.nutrient_compound in recommended_compounds_maize:\n",
        "        df_copy.loc[i, 'compound_include'] = 'Recomendado por la OMS'\n",
        "    elif row.redcap_event_name == 'salt_arm_2' and row.nutrient_compound in recommended_compounds_salt:\n",
        "        df_copy.loc[i, 'compound_include'] = 'Recomendado por la OMS'\n",
        "\n",
        "# Fixing Electrolytic Iron\n",
        "for i, row in df_copy.iterrows():\n",
        "    if (row.redcap_event_name == 'maize_flour_arm_2' or row.redcap_event_name == 'wheat_flour_arm_2') and row.nutrient_compound == 38 and row.latest_intake_api < 150: # Condition for electrolytic iron\n",
        "        df_copy.loc[i, 'compound_include'] = 'No recomendado por la OMS'\n",
        "    if (row.redcap_event_name == 'maize_flour_arm_2' or row.redcap_event_name == 'wheat_flour_arm_2') and row.standard_nutrient == 7 and row.latest_intake_api < 150: # Condition for electrolytic iron\n",
        "        df_copy.loc[i, 'who_compound'] = 'NaFeEDTA, sulfato ferroso o fumarato ferroso '\n"
      ],
      "execution_count": null,
      "outputs": []
    },
    {
      "cell_type": "code",
      "metadata": {
        "id": "0-VUqrAE-h8m"
      },
      "source": [
        "# Stating the WHO recommended level\n",
        "df_copy1 = df_copy.copy()\n",
        "\n",
        "df_copy1['who_rec_level'] = 'No recomendado por la OMS'\n",
        "\n",
        "for i, row in df_copy1.iterrows():\n",
        "    if row.redcap_event_name == 'oil_arm_2' or row.redcap_event_name == 'rice_arm_2':\n",
        "        df_copy1.loc[i, 'who_rec_level'] = 'No hay recomendación disponible de la OMS para este alimento'\n",
        "    elif pd.isna(row.latest_intake_api):\n",
        "        df_copy1.loc[i, 'who_rec_level'] = 'Sin datos de disponibilidad/ingesta '\n",
        "    elif row.nutrient_compound == 1:\n",
        "        df_copy1.loc[i, 'who_rec_level'] = 'El compuesto no está especificado'\n",
        "    # Salt plus 33 percent\n",
        "    elif row.redcap_event_name == 'salt_arm_2' and (row.nutrient_compound == 33 or row.nutrient_compound == 34): # Potassium iodide and potassium iodate\n",
        "        if row.latest_intake_api >= 3 and row.latest_intake_api < 3.499:\n",
        "            df_copy1.loc[i, 'who_rec_level'] = '86.45'\n",
        "        elif row.latest_intake_api >= 3.5 and row.latest_intake_api < 4.499:\n",
        "            df_copy1.loc[i, 'who_rec_level'] = '65.17'\n",
        "        elif row.latest_intake_api >= 4.5 and row.latest_intake_api < 5.499:\n",
        "            df_copy1.loc[i, 'who_rec_level'] = '51.87'\n",
        "        elif row.latest_intake_api >= 5.5 and row.latest_intake_api < 6.499:\n",
        "            df_copy1.loc[i, 'who_rec_level'] = '43.89'\n",
        "        elif row.latest_intake_api >= 6.5 and row.latest_intake_api < 7.499:\n",
        "            df_copy1.loc[i, 'who_rec_level'] = '37.24'\n",
        "        elif row.latest_intake_api >= 7.5 and row.latest_intake_api < 8.499:\n",
        "            df_copy1.loc[i, 'who_rec_level'] = '31.92'\n",
        "        elif row.latest_intake_api >= 8.5 and row.latest_intake_api < 9.499:\n",
        "            df_copy1.loc[i, 'who_rec_level'] = '29.26'\n",
        "        elif row.latest_intake_api >= 9.5 and row.latest_intake_api < 10.499:\n",
        "            df_copy1.loc[i, 'who_rec_level'] = '26.60'\n",
        "        elif row.latest_intake_api >= 10.5 and row.latest_intake_api < 11.499:\n",
        "            df_copy1.loc[i, 'who_rec_level'] = '23.94'\n",
        "        elif row.latest_intake_api >= 11.5 and row.latest_intake_api < 12.499:\n",
        "            df_copy1.loc[i, 'who_rec_level'] = '21.28'\n",
        "        elif row.latest_intake_api >= 12.5 and row.latest_intake_api < 13.499:\n",
        "            df_copy1.loc[i, 'who_rec_level'] = '19.95'\n",
        "        elif row.latest_intake_api >= 13.5 and row.latest_intake_api < 14.5:\n",
        "            df_copy1.loc[i, 'who_rec_level'] = '18.62'        \n",
        "    # Maize\n",
        "    elif row.redcap_event_name == 'maize_flour_arm_2' and row.nutrient_compound == 71: # Niacinamide\n",
        "        df_copy1.loc[i, 'who_rec_level'] = 36\n",
        "    elif row.redcap_event_name == 'maize_flour_arm_2' and row.nutrient_compound == 72: # Riboflavin\n",
        "        df_copy1.loc[i, 'who_rec_level'] = 2.0\n",
        "    elif row.redcap_event_name == 'maize_flour_arm_2' and row.nutrient_compound == 3: # Pyridoxine Hydrochloride\n",
        "        df_copy1.loc[i, 'who_rec_level'] = 6.2\n",
        "    elif row.redcap_event_name == 'maize_flour_arm_2' and row.nutrient_compound == 81: # Thiamin Hydrochloride\n",
        "        df_copy1.loc[i, 'who_rec_level'] = 3.9\n",
        "    elif row.redcap_event_name == 'maize_flour_arm_2' and (row.nutrient_compound == 50 or row.nutrient_compound == 55): # Ferrous sulfate, Ferrous fumarate\n",
        "        if row.latest_intake_api < 75:\n",
        "            df_copy1.loc[i, 'who_rec_level'] = '60'\n",
        "        elif row.latest_intake_api >= 75 and row.latest_intake_api < 150:\n",
        "            df_copy1.loc[i, 'who_rec_level'] = '60'\n",
        "        elif row.latest_intake_api >= 150 and row.latest_intake_api <= 300:\n",
        "            df_copy1.loc[i, 'who_rec_level'] = '30'\n",
        "        elif row.latest_intake_api > 300:\n",
        "            df_copy1.loc[i, 'who_rec_level'] = '20'\n",
        "    elif row.redcap_event_name == 'maize_flour_arm_2' and row.nutrient_compound == 64: # NaFeEDTA\n",
        "        if row.latest_intake_api < 75:\n",
        "            df_copy1.loc[i, 'who_rec_level'] = '40'\n",
        "        elif row.latest_intake_api >= 75 and row.latest_intake_api < 150:\n",
        "            df_copy1.loc[i, 'who_rec_level'] = '40'\n",
        "        elif row.latest_intake_api >= 150 and row.latest_intake_api <= 300:\n",
        "            df_copy1.loc[i, 'who_rec_level'] = '20'\n",
        "        elif row.latest_intake_api > 300:\n",
        "            df_copy1.loc[i, 'who_rec_level'] = '15'\n",
        "    elif row.redcap_event_name == 'maize_flour_arm_2' and row.nutrient_compound == 38: # Electrolytic iron\n",
        "        if row.latest_intake_api >= 150 and row.latest_intake_api <= 300:\n",
        "            df_copy1.loc[i, 'who_rec_level'] = '60'\n",
        "        elif row.latest_intake_api > 300:\n",
        "            df_copy1.loc[i, 'who_rec_level'] = '40'\n",
        "    elif row.redcap_event_name == 'maize_flour_arm_2' and row.nutrient_compound == 29: # Folic acid\n",
        "        if row.latest_intake_api < 75:\n",
        "            df_copy1.loc[i, 'who_rec_level'] = '5.0'\n",
        "        elif row.latest_intake_api >= 75 and row.latest_intake_api < 150:\n",
        "            df_copy1.loc[i, 'who_rec_level'] = '2.6'\n",
        "        elif row.latest_intake_api >= 150 and row.latest_intake_api <= 300:\n",
        "            df_copy1.loc[i, 'who_rec_level'] = '1.3'\n",
        "        elif row.latest_intake_api > 300:\n",
        "            df_copy1.loc[i, 'who_rec_level'] = '1.0'\n",
        "    elif row.redcap_event_name == 'maize_flour_arm_2' and (row.nutrient_compound == 4): # Vitamin B12\n",
        "        if row.latest_intake_api < 75:\n",
        "            df_copy1.loc[i, 'who_rec_level'] = '0.04'\n",
        "        elif row.latest_intake_api >= 75 and row.latest_intake_api < 150:\n",
        "            df_copy1.loc[i, 'who_rec_level'] = '0.02'\n",
        "        elif row.latest_intake_api >= 150 and row.latest_intake_api <= 300:\n",
        "            df_copy1.loc[i, 'who_rec_level'] = '0.01'\n",
        "        elif row.latest_intake_api > 300:\n",
        "            df_copy1.loc[i, 'who_rec_level'] = '0.008'\n",
        "    elif row.redcap_event_name == 'maize_flour_arm_2' and (row.nutrient_compound == 86): # Vitamin A\n",
        "        if row.latest_intake_api < 75:\n",
        "            df_copy1.loc[i, 'who_rec_level'] = '5.9'\n",
        "        elif row.latest_intake_api >= 75 and row.latest_intake_api < 150:\n",
        "            df_copy1.loc[i, 'who_rec_level'] = '3'\n",
        "        elif row.latest_intake_api >= 150 and row.latest_intake_api <= 300:\n",
        "            df_copy1.loc[i, 'who_rec_level'] = '1.5'\n",
        "        elif row.latest_intake_api > 300:\n",
        "            df_copy1.loc[i, 'who_rec_level'] = '1'\n",
        "    elif row.redcap_event_name == 'maize_flour_arm_2' and (row.nutrient_compound == 104 or row.nutrient_compound == 105): # Zinc oxide/Zinc sulfate\n",
        "        if row.latest_intake_api < 75:\n",
        "            df_copy1.loc[i, 'who_rec_level'] = '95'\n",
        "        elif row.latest_intake_api >= 75 and row.latest_intake_api < 150:\n",
        "            df_copy1.loc[i, 'who_rec_level'] = '55'\n",
        "        elif row.latest_intake_api >= 150 and row.latest_intake_api <= 300:\n",
        "            df_copy1.loc[i, 'who_rec_level'] = '40'\n",
        "        elif row.latest_intake_api > 300:\n",
        "            df_copy1.loc[i, 'who_rec_level'] = '30'\n",
        "    # Wheat\n",
        "    elif row.redcap_event_name == 'wheat_flour_arm_2' and (row.nutrient_compound == 50 or row.nutrient_compound == 55): # Ferrous sulfate, Ferrous fumarate\n",
        "        if row.latest_intake_api < 75:\n",
        "            df_copy1.loc[i, 'who_rec_level'] = '60'\n",
        "        elif row.latest_intake_api >= 75 and row.latest_intake_api < 150:\n",
        "            df_copy1.loc[i, 'who_rec_level'] = '60'\n",
        "        elif row.latest_intake_api >= 150 and row.latest_intake_api <= 300:\n",
        "            df_copy1.loc[i, 'who_rec_level'] = '30'\n",
        "        elif row.latest_intake_api > 300:\n",
        "            df_copy1.loc[i, 'who_rec_level'] = '20'\n",
        "    elif row.redcap_event_name == 'wheat_flour_arm_2' and row.nutrient_compound == 64: # NaFeEDTA\n",
        "        if row.latest_intake_api < 75:\n",
        "            df_copy1.loc[i, 'who_rec_level'] = '40'\n",
        "        elif row.latest_intake_api >= 75 and row.latest_intake_api < 150:\n",
        "            df_copy1.loc[i, 'who_rec_level'] = '40'\n",
        "        elif row.latest_intake_api >= 150 and row.latest_intake_api <= 300:\n",
        "            df_copy1.loc[i, 'who_rec_level'] = '20'\n",
        "        elif row.latest_intake_api > 300:\n",
        "            df_copy1.loc[i, 'who_rec_level'] = '15'\n",
        "    elif row.redcap_event_name == 'wheat_flour_arm_2' and row.nutrient_compound == 38: # Electrolytic iron\n",
        "        if row.latest_intake_api >= 150 and row.latest_intake_api <= 300:\n",
        "            df_copy1.loc[i, 'who_rec_level'] = '60'\n",
        "        elif row.latest_intake_api > 300:\n",
        "            df_copy1.loc[i, 'who_rec_level'] = '40'\n",
        "    elif row.redcap_event_name == 'wheat_flour_arm_2' and row.nutrient_compound == 29: # Folic acid\n",
        "        if row.latest_intake_api < 75:\n",
        "            df_copy1.loc[i, 'who_rec_level'] = '5.0'\n",
        "        elif row.latest_intake_api >= 75 and row.latest_intake_api < 150:\n",
        "            df_copy1.loc[i, 'who_rec_level'] = '2.6'\n",
        "        elif row.latest_intake_api >= 150 and row.latest_intake_api <= 300:\n",
        "            df_copy1.loc[i, 'who_rec_level'] = '1.3'\n",
        "        elif row.latest_intake_api > 300:\n",
        "            df_copy1.loc[i, 'who_rec_level'] = '1.0'\n",
        "    elif row.redcap_event_name == 'wheat_flour_arm_2' and (row.nutrient_compound == 4): # Vitamin B12\n",
        "        if row.latest_intake_api < 75:\n",
        "            df_copy1.loc[i, 'who_rec_level'] = '0.04'\n",
        "        elif row.latest_intake_api >= 75 and row.latest_intake_api < 150:\n",
        "            df_copy1.loc[i, 'who_rec_level'] = '0.02'\n",
        "        elif row.latest_intake_api >= 150 and row.latest_intake_api <= 300:\n",
        "            df_copy1.loc[i, 'who_rec_level'] = '0.01'\n",
        "        elif row.latest_intake_api > 300:\n",
        "            df_copy1.loc[i, 'who_rec_level'] = '0.008'\n",
        "    elif row.redcap_event_name == 'wheat_flour_arm_2' and (row.nutrient_compound == 86): # Vitamin A\n",
        "        if row.latest_intake_api < 75:\n",
        "            df_copy1.loc[i, 'who_rec_level'] = '5.9'\n",
        "        elif row.latest_intake_api >= 75 and row.latest_intake_api < 150:\n",
        "            df_copy1.loc[i, 'who_rec_level'] = '3'\n",
        "        elif row.latest_intake_api >= 150 and row.latest_intake_api <= 300:\n",
        "            df_copy1.loc[i, 'who_rec_level'] = '1.5'\n",
        "        elif row.latest_intake_api > 300:\n",
        "            df_copy1.loc[i, 'who_rec_level'] = '1'\n",
        "    elif row.redcap_event_name == 'wheat_flour_arm_2' and (row.nutrient_compound == 104 or row.nutrient_compound == 105): # Zinc oxide/Zinc sulfate\n",
        "        if row.latest_intake_api < 75:\n",
        "            df_copy1.loc[i, 'who_rec_level'] = '95'\n",
        "        elif row.latest_intake_api >= 75 and row.latest_intake_api < 150:\n",
        "            df_copy1.loc[i, 'who_rec_level'] = '55'\n",
        "        elif row.latest_intake_api >= 150 and row.latest_intake_api <= 300:\n",
        "            df_copy1.loc[i, 'who_rec_level'] = '40'\n",
        "        elif row.latest_intake_api > 300:\n",
        "            df_copy1.loc[i, 'who_rec_level'] = '30'\n"
      ],
      "execution_count": null,
      "outputs": []
    },
    {
      "cell_type": "code",
      "metadata": {
        "id": "eVQDEBSBxMZj"
      },
      "source": [
        "# Calculate final percent\n",
        "def calc_pc(row):\n",
        "    try: \n",
        "        return round((float(row.nutrient_level) / float(row.who_rec_level)) * 100)\n",
        "    except ValueError:\n",
        "        return row.who_rec_level\n",
        "\n",
        "df_copy1['alignment_pc'] = df_copy1.apply(lambda row: calc_pc(row), axis=1)"
      ],
      "execution_count": null,
      "outputs": []
    },
    {
      "cell_type": "code",
      "metadata": {
        "id": "q3KrGKLN_8XD"
      },
      "source": [
        "# The wheat and maize analysis\n",
        "full_merged = pd.DataFrame()\n",
        "\n",
        "for country in df_copy1.country_code.unique():\n",
        "    s = df_copy1[(df_copy1.country_code == country)]\n",
        "    if 'wheat_flour_arm_2' in s.redcap_event_name.values and 'maize_flour_arm_2' in s.redcap_event_name.values:\n",
        "        s2 = s[(s.redcap_event_name == 'wheat_flour_arm_2') | (s.redcap_event_name == 'maize_flour_arm_2')]\n",
        "        s3 = s2[s2.redcap_event_name == 'maize_flour_arm_2']\n",
        "        s4 = s2[s2.redcap_event_name == 'wheat_flour_arm_2']\n",
        "        #print(s2[['country_code', 'redcap_event_name', 'standard_nutrient','nutrient_compound', 'who_level']])\n",
        "\n",
        "        merged_df = s3.merge(s4, how='inner', left_on=[\"country_code\", \"standard_nutrient\", \"nutrient_compound\"], right_on=[\"country_code\", \"standard_nutrient\", \"nutrient_compound\"])\n",
        "        small_merged = merged_df[(merged_df.nutrient_compound == 50) | (merged_df.nutrient_compound == 55) | (merged_df.nutrient_compound == 64)\n",
        "                               | (merged_df.nutrient_compound == 38) | (merged_df.nutrient_compound == 29) | (merged_df.nutrient_compound == 4)\n",
        "                               | (merged_df.nutrient_compound == 86) | (merged_df.nutrient_compound == 104) | (merged_df.nutrient_compound == 105)]\n",
        "        full_merged = full_merged.append(small_merged, ignore_index=True)"
      ],
      "execution_count": null,
      "outputs": []
    },
    {
      "cell_type": "code",
      "metadata": {
        "id": "nQ8i9fDgP7g-"
      },
      "source": [
        "# Add FAO data for wheat and maize\n",
        "def added_fao(row):\n",
        "    try: \n",
        "        return float(row.latest_intake_api_x) + float(row.latest_intake_api_y)\n",
        "    except ValueError:\n",
        "        return 'Sin datos de disponibilidad/ingesta '\n",
        "\n",
        "full_merged['combined_fao'] = full_merged.apply(lambda row: added_fao(row), axis=1)\n",
        "\n",
        "# Recalculate standard values for each food and combine\n",
        "def recalculate_com_standard(row):\n",
        "    try: \n",
        "        return float((row.nutrient_level_x / 1000) * (row.latest_intake_api_x)) + float((row.nutrient_level_y / 1000) * (row.latest_intake_api_y))\n",
        "    except ValueError:\n",
        "        return 'Sin datos de disponibilidad/ingesta '\n",
        "\n",
        "full_merged['combined_level'] = full_merged.apply(lambda row: recalculate_com_standard(row), axis=1)\n",
        "\n",
        "# Determine the WHO datum based on the combined FAO data\n",
        "def who_datum_range(row):\n",
        "    if row.combined_fao < 75:\n",
        "        return 50\n",
        "    elif row.combined_fao >= 75 and row.combined_fao < 150:\n",
        "        return 113\n",
        "    elif row.combined_fao >= 150 and row.combined_fao <= 300:\n",
        "        return 275\n",
        "    elif row.combined_fao > 300:\n",
        "        return 350\n",
        "    else:    \n",
        "        return 'Sin datos de disponibilidad/ingesta '\n",
        "\n",
        "full_merged['who_datum'] = full_merged.apply(lambda row: who_datum_range(row), axis=1)\n",
        "\n",
        "# Based on the datum present values for each compound\n",
        "def calc_who_level_datum(row):\n",
        "        if row.who_datum == 'Sin datos de disponibilidad/ingesta ':\n",
        "            return 'Sin datos de disponibilidad/ingesta '\n",
        "        elif row.nutrient_compound == 50 or row.nutrient_compound == 55: # Ferrous sulfate, Ferrous fumarate\n",
        "            if row.who_datum < 75:\n",
        "                return 60\n",
        "            elif row.who_datum >= 75 and row.who_datum < 150:\n",
        "                return 60\n",
        "            elif row.who_datum >= 150 and row.who_datum <= 300:\n",
        "                return 30\n",
        "            elif row.who_datum > 300:\n",
        "                return 20\n",
        "        elif row.nutrient_compound == 64: # NaFeEDTA\n",
        "            if row.who_datum < 75:\n",
        "                return 40\n",
        "            elif row.who_datum >= 75 and row.who_datum < 150:\n",
        "                return 40\n",
        "            elif row.who_datum >= 150 and row.who_datum <= 300:\n",
        "                return 20\n",
        "            elif row.who_datum > 300:\n",
        "                return 15\n",
        "        elif row.nutrient_compound == 38: # Electrolytic iron\n",
        "            if row.who_datum >= 150 and row.who_datum <= 300:\n",
        "                return 60\n",
        "            elif row.who_datum > 300:\n",
        "                return 40\n",
        "        elif row.nutrient_compound == 29: # Folic acid\n",
        "            if row.who_datum < 75:\n",
        "                return 5.0\n",
        "            elif row.who_datum >= 75 and row.who_datum < 150:\n",
        "                return 2.6\n",
        "            elif row.who_datum >= 150 and row.who_datum <= 300:\n",
        "                return 1.3\n",
        "            elif row.who_datum > 300:\n",
        "                return 1.0\n",
        "        elif row.nutrient_compound == 4: # Vitamin B12\n",
        "            if row.who_datum < 75:\n",
        "                return 0.04\n",
        "            elif row.who_datum >= 75 and row.who_datum < 150:\n",
        "                return 0.02\n",
        "            elif row.who_datum >= 150 and row.who_datum <= 300:\n",
        "                return 0.01\n",
        "            elif row.who_datum > 300:\n",
        "                return 0.008\n",
        "        elif row.nutrient_compound == 86: # Vitamin A\n",
        "            if row.who_datum < 75:\n",
        "                return 5.9\n",
        "            elif row.who_datum >= 75 and row.who_datum < 150:\n",
        "                return 3\n",
        "            elif row.who_datum >= 150 and row.who_datum <= 300:\n",
        "                return 1.5\n",
        "            elif row.who_datum > 300:\n",
        "                return 1\n",
        "        elif (row.nutrient_compound == 104 or row.nutrient_compound == 105): # Zinc oxide/Zinc sulfate\n",
        "            if row.who_datum < 75:\n",
        "                return 95\n",
        "            elif row.who_datum >= 75 and row.who_datum < 150:\n",
        "                return 55\n",
        "            elif row.who_datum >= 150 and row.who_datum <= 300:\n",
        "                return 40\n",
        "            elif row.who_datum > 300:\n",
        "                return 30\n",
        "\n",
        "full_merged['who_level_datum'] = full_merged.apply(lambda row: calc_who_level_datum(row), axis=1)\n",
        "\n",
        "# Recalculate WHO level recommendations\n",
        "def recalculate_com_who(row):\n",
        "    try: \n",
        "        return (float(row.who_level_datum) / 1000) * (row.who_datum)\n",
        "    except ValueError:\n",
        "        return 'Sin datos de disponibilidad/ingesta '\n",
        "\n",
        "full_merged['who_level_mw'] = full_merged.apply(lambda row: recalculate_com_who(row), axis=1)\n",
        "\n",
        "# Calculate final percent\n",
        "def com_calc_pc(row):\n",
        "    try: \n",
        "        return round((float(row.combined_level) / float(row.who_level_mw)) * 100)\n",
        "    except ValueError:\n",
        "        return 'Sin datos de disponibilidad/ingesta '\n",
        "\n",
        "full_merged['align_pc_mw'] = full_merged.apply(lambda row: com_calc_pc(row), axis=1)\n",
        "\n",
        "# Comment field for these countries\n",
        "full_merged['who_level_comment'] = 'Dado que este país fortifica el mismo nutriente y compuesto tanto en la harina de trigo como en la harina de maíz; por tanto, el análisis del nivel del nutriente se realizó en conjunto.'"
      ],
      "execution_count": null,
      "outputs": []
    },
    {
      "cell_type": "code",
      "metadata": {
        "id": "dol3a9xjfEMG",
        "colab": {
          "base_uri": "https://localhost:8080/"
        },
        "outputId": "9438b0c0-3ce8-400c-92d2-671e1bcb74cd"
      },
      "source": [
        "# Merge wheat and maize datasets together\n",
        "\n",
        "final_maize = full_merged[['country_code', 'redcap_event_name_x', 'redcap_repeat_instrument_x', 'redcap_repeat_instance_x', \n",
        "                  'standard_nutrient', 'nutrient_level_x', 'nutrient_compound', 'latest_intake_api_x', 'food_status_api_x', 'who_compound_x',\n",
        "                  'compound_include_x', 'who_level_datum', 'align_pc_mw', 'who_level_comment']]\n",
        "\n",
        "final_maize.rename(columns={'redcap_event_name_x':'redcap_event_name', 'redcap_repeat_instrument_x':'redcap_repeat_instrument', 'redcap_repeat_instance_x':'redcap_repeat_instance', \n",
        "                            'nutrient_level_x': 'nutrient_level', 'latest_intake_api_x':'latest_intake_api', \n",
        "                            'food_status_api_x':'food_status_api', 'who_cmpd_x':'who_cmpd', 'cmpd_include_x':'cmpd_include',\n",
        "                            'who_level_datum': 'who_level', 'align_pc_mw':'align_pc'}, inplace=True)\n",
        "\n",
        "final_wheat = full_merged[['country_code', 'redcap_event_name_y', 'redcap_repeat_instrument_y', 'redcap_repeat_instance_y', \n",
        "                  'standard_nutrient', 'nutrient_level_y', 'nutrient_compound', 'latest_intake_api_y', 'food_status_api_y', 'who_compound_y',\n",
        "                  'compound_include_y', 'who_level_datum', 'align_pc_mw', 'who_level_comment']]\n",
        "\n",
        "final_wheat.rename(columns={'redcap_event_name_y':'redcap_event_name', 'redcap_repeat_instrument_y':'redcap_repeat_instrument', 'redcap_repeat_instance_y':'redcap_repeat_instance', \n",
        "                            'nutrient_level_y': 'nutrient_level', 'latest_intake_api_y':'latest_intake_api', \n",
        "                            'food_status_api_y':'food_status_api', 'who_cmpd_y':'who_cmpd', 'cmpd_include_y':'cmpd_include',\n",
        "                            'who_level_datum': 'who_level', 'align_pc_mw':'align_pc'}, inplace=True)\n"
      ],
      "execution_count": null,
      "outputs": [
        {
          "output_type": "stream",
          "text": [
            "/usr/local/lib/python3.6/dist-packages/pandas/core/frame.py:4308: SettingWithCopyWarning: \n",
            "A value is trying to be set on a copy of a slice from a DataFrame\n",
            "\n",
            "See the caveats in the documentation: https://pandas.pydata.org/pandas-docs/stable/user_guide/indexing.html#returning-a-view-versus-a-copy\n",
            "  errors=errors,\n"
          ],
          "name": "stderr"
        }
      ]
    },
    {
      "cell_type": "code",
      "metadata": {
        "id": "vLLoLpyUrHrA",
        "colab": {
          "base_uri": "https://localhost:8080/",
          "height": 67,
          "referenced_widgets": [
            "27de83daeb014fdea9b90cfedca44423",
            "e123905dd9214c11a2f44f037c1d2f97",
            "3a465662dcd94636962cf07bff3f5730",
            "60e404348b2d4640801097b284f1ff2f",
            "640c27f661fe467abfd3689c386e0ed7",
            "f377f927a7544ecdaac0ac0dffbd2866",
            "40bb9d4ea2e54cc88a59805614a476d2",
            "c0c034c2eda743d99d2228aa5fb471c9"
          ]
        },
        "outputId": "4f3f23f9-0221-4064-9352-fcb4afc711d7"
      },
      "source": [
        "# Merge continuation\n",
        "\n",
        "df_copy1['who_level_comment'] = None\n",
        "\n",
        "for i, row in tqdm(df_copy1.iterrows()):\n",
        "    for a, row2 in final_wheat.iterrows():\n",
        "        if row.country_code == row2.country_code and row.redcap_event_name == row2.redcap_event_name and row.standard_nutrient == row2.standard_nutrient and row.nutrient_compound == row2.nutrient_compound: \n",
        "            df_copy1.loc[i, 'who_rec_level'] = row2.who_level\n",
        "            df_copy1.loc[i, 'alignment_pc'] = row2.align_pc\n",
        "            df_copy1.loc[i, 'who_level_comment'] = row2.who_level_comment\n",
        "    for b, row3 in final_maize.iterrows():\n",
        "        if row.country_code == row3.country_code and row.redcap_event_name == row3.redcap_event_name and row.standard_nutrient == row3.standard_nutrient and row.nutrient_compound == row3.nutrient_compound: \n",
        "            df_copy1.loc[i, 'who_rec_level'] = row3.who_level\n",
        "            df_copy1.loc[i, 'alignment_pc'] = row3.align_pc\n",
        "            df_copy1.loc[i, 'who_level_comment'] = row3.who_level_comment\n"
      ],
      "execution_count": null,
      "outputs": [
        {
          "output_type": "display_data",
          "data": {
            "application/vnd.jupyter.widget-view+json": {
              "model_id": "27de83daeb014fdea9b90cfedca44423",
              "version_minor": 0,
              "version_major": 2
            },
            "text/plain": [
              "HBox(children=(FloatProgress(value=1.0, bar_style='info', max=1.0), HTML(value='')))"
            ]
          },
          "metadata": {
            "tags": []
          }
        },
        {
          "output_type": "stream",
          "text": [
            "\n"
          ],
          "name": "stdout"
        }
      ]
    },
    {
      "cell_type": "code",
      "metadata": {
        "id": "yCEZdizsy4Ab"
      },
      "source": [
        "# Is other foods fortified with the same nutrient in each country?\n",
        "\n",
        "def get_nice_food(redcap_event_name):\n",
        "    if redcap_event_name == 'salt_arm_2':\n",
        "        return 'sal'\n",
        "    elif redcap_event_name == 'oil_arm_2':\n",
        "        return 'aceite'\n",
        "    elif redcap_event_name == 'wheat_flour_arm_2':\n",
        "        return 'harina de trigo'\n",
        "    elif redcap_event_name == 'maize_flour_arm_2':\n",
        "        return 'harina de maíz'\n",
        "    elif redcap_event_name == 'rice_arm_2':\n",
        "        return 'arroz'\n",
        "    \n",
        "\n",
        "df_copy1['other_food'] = 'nananana'\n",
        "\n",
        "def calc_other_foods(main_row):\n",
        "    country_df = df_copy1[(df_copy1.country_code == main_row.country_code) & (df_copy1.redcap_event_name != main_row.redcap_event_name)]\n",
        "\n",
        "    if main_row.standard_nutrient not in country_df.standard_nutrient.values:\n",
        "        return 'No'\n",
        "    else:\n",
        "        nutrient_foods = set()\n",
        "        for i, row in country_df.iterrows():\n",
        "            if main_row.standard_nutrient == row.standard_nutrient:\n",
        "                nutrient_foods.add(get_nice_food(row.redcap_event_name))\n",
        "        \n",
        "        return \", \".join(sorted(nutrient_foods)).capitalize()\n",
        "\n",
        "df_copy1['other_food'] = df_copy1.apply(lambda row: calc_other_foods(row), axis=1)"
      ],
      "execution_count": null,
      "outputs": []
    },
    {
      "cell_type": "code",
      "metadata": {
        "id": "DLmD5CIA37Zu"
      },
      "source": [
        "# Create final dataset, drop variables not used to upload\n",
        "final=df_copy1.copy()\n",
        "final.drop(['standard_nutrient', 'nutrient_level', 'nutrient_compound', 'latest_intake_api', 'food_status_api'], axis=1, inplace=True)"
      ],
      "execution_count": null,
      "outputs": []
    },
    {
      "cell_type": "code",
      "metadata": {
        "id": "Pk3EUVCaeP_V"
      },
      "source": [
        "# Convert country code and repeat instance to integers\n",
        "final[\"country_code\"] = final.country_code.apply(lambda x: int(x))\n",
        "final[\"redcap_repeat_instance\"] = final.redcap_repeat_instance.apply(lambda x: int(x))\n",
        "\n",
        "# Formats data into acceptable table for import into REDCap\n",
        "final.set_index(['country_code', 'redcap_event_name'], inplace=True)\n"
      ],
      "execution_count": null,
      "outputs": []
    },
    {
      "cell_type": "code",
      "metadata": {
        "id": "OL-kgTXTcn79",
        "colab": {
          "base_uri": "https://localhost:8080/"
        },
        "outputId": "6426d2f4-69a9-4966-980e-04b1bc673585"
      },
      "source": [
        "# FINAL IMPORT - Import to REDCap through API\n",
        "project.import_records(final)"
      ],
      "execution_count": null,
      "outputs": [
        {
          "output_type": "execute_result",
          "data": {
            "text/plain": [
              "{'count': 153}"
            ]
          },
          "metadata": {
            "tags": []
          },
          "execution_count": 21
        }
      ]
    }
  ]
}